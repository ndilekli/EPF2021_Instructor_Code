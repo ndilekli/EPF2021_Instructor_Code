{
 "cells": [
  {
   "cell_type": "code",
   "execution_count": 2,
   "metadata": {},
   "outputs": [],
   "source": [
    "def batchFirestationParcelSearchRomane(workspace, input_fc, fc1, b1, fc2, b2, fc3, b3, parcel_size, raster_lyr, raster_criterion, out_fc):\n",
    "    #import the main library\n",
    "    import arcpy\n",
    "    #Let's specify the workspace\n",
    "    arcpy.env.workspace = workspace\n",
    "    #Make sure you can overwrite layers\n",
    "    arcpy.env.overwriteOutput = True\n",
    "    #Analysis for the first criteria\n",
    "    #buffer for environmentally_sensitive_areas,\n",
    "    #schools and existing fire station\n",
    "    \n",
    "    arcpy.Buffer_analysis(fc1, fc1 + \"_Buffer\", b1)\n",
    "    arcpy.Buffer_analysis(fc2, fc2 + \"_Buffer\", b2)\n",
    "    arcpy.Buffer_analysis(fc3, fc3 + \"_Buffer\", b3)\n",
    "    \n",
    "    #Let's do the union analysis\n",
    "    arcpy.Union_analysis([fc1 + \"_Buffer\", fc2 + \"_Buffer\", fc3 + \"_Buffer\"], \"FirstCriteria_Union\")\n",
    "    \n",
    "    #Dissolve all union features\n",
    "    arcpy.Dissolve_management(\"FirstCriteria_Union\", \"FirstCriteria_Dissolve\")\n",
    "    \n",
    "    #Conduct erase analysis\n",
    "    arcpy.Erase_analysis(input_fc, \"FirstCriteria_Dissolve\", \"First_Step\")\n",
    "    #Second criteria\n",
    "    #first add area in sq\n",
    "\n",
    "    arcpy.AddField_management(\"First_step\",\"area_sq_meters\",\"Double\")\n",
    "    expression1 = \"{0}\".format(\"!SHAPE.area@SQUAREMETERS!\")\n",
    "    arcpy.CalculateField_management(\"First_step\", \"area_sq_meters\",expression1, \"PYTHON\", )\n",
    "\n",
    "    arcpy.sa.ZonalStatisticsAsTable(\"First_Step\", \"OBJECTID\", raster_lyr, raster_lyr + \"_Statistics\",\"NODATA\", \"MEAN\")\n",
    "    arcpy.JoinField_management(\"First_step\", \"OBJECTID\", raster_lyr + \"_Statistics\", \"OBJECTID_1\")\n",
    "\n",
    "    arcpy.MakeFeatureLayer_management(\"First_step\", \"Final_Selection_Lyr\")\n",
    "    query = \"area_sq_meter >\" + str(parcel_size) + \"and OWNER = 'CITY' and \" + raster_criterion\n",
    "    arcpy.SelectLayerByAttribute_management(\"Final_Selection_Lyr\", \"NEW_SELECTION\", query)\n",
    "    arcpy.CopyFeatures_management(\"Final_Selection_Lyr\", out_fc)\n"
   ]
  },
  {
   "cell_type": "code",
   "execution_count": 4,
   "metadata": {},
   "outputs": [
    {
     "ename": "ExecuteError",
     "evalue": "ERROR 000464: Cannot get exclusive schema lock.  Either being edited or in use by another application or service.\nFailed to execute (Erase).\n",
     "output_type": "error",
     "traceback": [
      "\u001b[1;31m---------------------------------------------------------------------------\u001b[0m",
      "\u001b[1;31mExecuteError\u001b[0m                              Traceback (most recent call last)",
      "\u001b[1;32m<ipython-input-4-9a0d77128e7c>\u001b[0m in \u001b[0;36m<module>\u001b[1;34m\u001b[0m\n\u001b[0;32m      3\u001b[0m                              \u001b[1;34m\"School\"\u001b[0m\u001b[1;33m,\u001b[0m \u001b[1;34m\"2.5 Kilometers\"\u001b[0m\u001b[1;33m,\u001b[0m\u001b[1;33m\u001b[0m\u001b[1;33m\u001b[0m\u001b[0m\n\u001b[0;32m      4\u001b[0m                              \u001b[1;34m\"Existing_fire_station\"\u001b[0m\u001b[1;33m,\u001b[0m \u001b[1;34m\"2 Kilometers\"\u001b[0m\u001b[1;33m,\u001b[0m\u001b[1;33m\u001b[0m\u001b[1;33m\u001b[0m\u001b[0m\n\u001b[1;32m----> 5\u001b[1;33m                             20000, \"Slope\", \"MEAN < 15\", \"Final_Output_Romane\")\n\u001b[0m",
      "\u001b[1;32m<ipython-input-2-468f50fe4f3f>\u001b[0m in \u001b[0;36mbatchFirestationParcelSearch\u001b[1;34m(workspace, input_fc, fc1, b1, fc2, b2, fc3, b3, parcel_size, raster_lyr, raster_criterion, out_fc)\u001b[0m\n\u001b[0;32m     17\u001b[0m     \u001b[0marcpy\u001b[0m\u001b[1;33m.\u001b[0m\u001b[0mDissolve_management\u001b[0m\u001b[1;33m(\u001b[0m\u001b[1;34m\"FirstCriteria_Union\"\u001b[0m\u001b[1;33m,\u001b[0m \u001b[1;34m\"FirstCriteria_Dissolve\"\u001b[0m\u001b[1;33m)\u001b[0m\u001b[1;33m\u001b[0m\u001b[1;33m\u001b[0m\u001b[0m\n\u001b[0;32m     18\u001b[0m     \u001b[1;31m#Conduct erase analysis\u001b[0m\u001b[1;33m\u001b[0m\u001b[1;33m\u001b[0m\u001b[1;33m\u001b[0m\u001b[0m\n\u001b[1;32m---> 19\u001b[1;33m     \u001b[0marcpy\u001b[0m\u001b[1;33m.\u001b[0m\u001b[0mErase_analysis\u001b[0m\u001b[1;33m(\u001b[0m\u001b[0minput_fc\u001b[0m\u001b[1;33m,\u001b[0m \u001b[1;34m\"FirstCriteria_Dissolve\"\u001b[0m\u001b[1;33m,\u001b[0m \u001b[1;34m\"First_Step\"\u001b[0m\u001b[1;33m)\u001b[0m\u001b[1;33m\u001b[0m\u001b[1;33m\u001b[0m\u001b[0m\n\u001b[0m\u001b[0;32m     20\u001b[0m     \u001b[1;31m#Second criteria\u001b[0m\u001b[1;33m\u001b[0m\u001b[1;33m\u001b[0m\u001b[1;33m\u001b[0m\u001b[0m\n\u001b[0;32m     21\u001b[0m     \u001b[1;31m#first add area in sq\u001b[0m\u001b[1;33m\u001b[0m\u001b[1;33m\u001b[0m\u001b[1;33m\u001b[0m\u001b[0m\n",
      "\u001b[1;32mC:\\Program Files\\ArcGIS\\Pro\\Resources\\ArcPy\\arcpy\\analysis.py\u001b[0m in \u001b[0;36mErase\u001b[1;34m(in_features, erase_features, out_feature_class, cluster_tolerance)\u001b[0m\n\u001b[0;32m    368\u001b[0m         \u001b[1;32mreturn\u001b[0m \u001b[0mretval\u001b[0m\u001b[1;33m\u001b[0m\u001b[1;33m\u001b[0m\u001b[0m\n\u001b[0;32m    369\u001b[0m     \u001b[1;32mexcept\u001b[0m \u001b[0mException\u001b[0m \u001b[1;32mas\u001b[0m \u001b[0me\u001b[0m\u001b[1;33m:\u001b[0m\u001b[1;33m\u001b[0m\u001b[1;33m\u001b[0m\u001b[0m\n\u001b[1;32m--> 370\u001b[1;33m         \u001b[1;32mraise\u001b[0m \u001b[0me\u001b[0m\u001b[1;33m\u001b[0m\u001b[1;33m\u001b[0m\u001b[0m\n\u001b[0m\u001b[0;32m    371\u001b[0m \u001b[1;33m\u001b[0m\u001b[0m\n\u001b[0;32m    372\u001b[0m \u001b[1;33m@\u001b[0m\u001b[0mgptooldoc\u001b[0m\u001b[1;33m(\u001b[0m\u001b[1;34m'Identity_analysis'\u001b[0m\u001b[1;33m,\u001b[0m \u001b[1;32mNone\u001b[0m\u001b[1;33m)\u001b[0m\u001b[1;33m\u001b[0m\u001b[1;33m\u001b[0m\u001b[0m\n",
      "\u001b[1;32mC:\\Program Files\\ArcGIS\\Pro\\Resources\\ArcPy\\arcpy\\analysis.py\u001b[0m in \u001b[0;36mErase\u001b[1;34m(in_features, erase_features, out_feature_class, cluster_tolerance)\u001b[0m\n\u001b[0;32m    365\u001b[0m     \u001b[1;32mfrom\u001b[0m \u001b[0marcpy\u001b[0m\u001b[1;33m.\u001b[0m\u001b[0marcobjects\u001b[0m\u001b[1;33m.\u001b[0m\u001b[0marcobjectconversion\u001b[0m \u001b[1;32mimport\u001b[0m \u001b[0mconvertArcObjectToPythonObject\u001b[0m\u001b[1;33m\u001b[0m\u001b[1;33m\u001b[0m\u001b[0m\n\u001b[0;32m    366\u001b[0m     \u001b[1;32mtry\u001b[0m\u001b[1;33m:\u001b[0m\u001b[1;33m\u001b[0m\u001b[1;33m\u001b[0m\u001b[0m\n\u001b[1;32m--> 367\u001b[1;33m         \u001b[0mretval\u001b[0m \u001b[1;33m=\u001b[0m \u001b[0mconvertArcObjectToPythonObject\u001b[0m\u001b[1;33m(\u001b[0m\u001b[0mgp\u001b[0m\u001b[1;33m.\u001b[0m\u001b[0mErase_analysis\u001b[0m\u001b[1;33m(\u001b[0m\u001b[1;33m*\u001b[0m\u001b[0mgp_fixargs\u001b[0m\u001b[1;33m(\u001b[0m\u001b[1;33m(\u001b[0m\u001b[0min_features\u001b[0m\u001b[1;33m,\u001b[0m \u001b[0merase_features\u001b[0m\u001b[1;33m,\u001b[0m \u001b[0mout_feature_class\u001b[0m\u001b[1;33m,\u001b[0m \u001b[0mcluster_tolerance\u001b[0m\u001b[1;33m)\u001b[0m\u001b[1;33m,\u001b[0m \u001b[1;32mTrue\u001b[0m\u001b[1;33m)\u001b[0m\u001b[1;33m)\u001b[0m\u001b[1;33m)\u001b[0m\u001b[1;33m\u001b[0m\u001b[1;33m\u001b[0m\u001b[0m\n\u001b[0m\u001b[0;32m    368\u001b[0m         \u001b[1;32mreturn\u001b[0m \u001b[0mretval\u001b[0m\u001b[1;33m\u001b[0m\u001b[1;33m\u001b[0m\u001b[0m\n\u001b[0;32m    369\u001b[0m     \u001b[1;32mexcept\u001b[0m \u001b[0mException\u001b[0m \u001b[1;32mas\u001b[0m \u001b[0me\u001b[0m\u001b[1;33m:\u001b[0m\u001b[1;33m\u001b[0m\u001b[1;33m\u001b[0m\u001b[0m\n",
      "\u001b[1;32mC:\\Program Files\\ArcGIS\\Pro\\Resources\\ArcPy\\arcpy\\geoprocessing\\_base.py\u001b[0m in \u001b[0;36m<lambda>\u001b[1;34m(*args)\u001b[0m\n\u001b[0;32m    509\u001b[0m         \u001b[0mval\u001b[0m \u001b[1;33m=\u001b[0m \u001b[0mgetattr\u001b[0m\u001b[1;33m(\u001b[0m\u001b[0mself\u001b[0m\u001b[1;33m.\u001b[0m\u001b[0m_gp\u001b[0m\u001b[1;33m,\u001b[0m \u001b[0mattr\u001b[0m\u001b[1;33m)\u001b[0m\u001b[1;33m\u001b[0m\u001b[1;33m\u001b[0m\u001b[0m\n\u001b[0;32m    510\u001b[0m         \u001b[1;32mif\u001b[0m \u001b[0mcallable\u001b[0m\u001b[1;33m(\u001b[0m\u001b[0mval\u001b[0m\u001b[1;33m)\u001b[0m\u001b[1;33m:\u001b[0m\u001b[1;33m\u001b[0m\u001b[1;33m\u001b[0m\u001b[0m\n\u001b[1;32m--> 511\u001b[1;33m             \u001b[1;32mreturn\u001b[0m \u001b[1;32mlambda\u001b[0m \u001b[1;33m*\u001b[0m\u001b[0margs\u001b[0m\u001b[1;33m:\u001b[0m \u001b[0mval\u001b[0m\u001b[1;33m(\u001b[0m\u001b[1;33m*\u001b[0m\u001b[0mgp_fixargs\u001b[0m\u001b[1;33m(\u001b[0m\u001b[0margs\u001b[0m\u001b[1;33m,\u001b[0m \u001b[1;32mTrue\u001b[0m\u001b[1;33m)\u001b[0m\u001b[1;33m)\u001b[0m\u001b[1;33m\u001b[0m\u001b[1;33m\u001b[0m\u001b[0m\n\u001b[0m\u001b[0;32m    512\u001b[0m         \u001b[1;32melse\u001b[0m\u001b[1;33m:\u001b[0m\u001b[1;33m\u001b[0m\u001b[1;33m\u001b[0m\u001b[0m\n\u001b[0;32m    513\u001b[0m             \u001b[1;32mreturn\u001b[0m \u001b[0mconvertArcObjectToPythonObject\u001b[0m\u001b[1;33m(\u001b[0m\u001b[0mval\u001b[0m\u001b[1;33m)\u001b[0m\u001b[1;33m\u001b[0m\u001b[1;33m\u001b[0m\u001b[0m\n",
      "\u001b[1;31mExecuteError\u001b[0m: ERROR 000464: Cannot get exclusive schema lock.  Either being edited or in use by another application or service.\nFailed to execute (Erase).\n"
     ]
    }
   ],
   "source": [
    "batchFirestationParcelSearch(\"C:/EsriTraining/firestation.gdb\", \"Sites1\",\n",
    "                             \"Environmentally_sensitive_area\", \"1.4 Kilometers\",\n",
    "                             \"School\", \"2.5 Kilometers\",\n",
    "                             \"Existing_fire_station\", \"2 Kilometers\",\n",
    "                            20000, \"Slope\", \"MEAN < 15\", \"Final_Output_Romane\")"
   ]
  },
  {
   "cell_type": "code",
   "execution_count": null,
   "metadata": {},
   "outputs": [],
   "source": []
  }
 ],
 "metadata": {
  "kernelspec": {
   "display_name": "Python 3",
   "language": "python",
   "name": "python3"
  },
  "language_info": {
   "codemirror_mode": {
    "name": "ipython",
    "version": 3
   },
   "file_extension": ".py",
   "mimetype": "text/x-python",
   "name": "python",
   "nbconvert_exporter": "python",
   "pygments_lexer": "ipython3",
   "version": "3.7.9"
  }
 },
 "nbformat": 4,
 "nbformat_minor": 4
}
