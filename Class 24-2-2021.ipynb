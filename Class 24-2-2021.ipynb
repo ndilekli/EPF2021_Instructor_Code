{
 "cells": [
  {
   "cell_type": "code",
   "execution_count": 2,
   "metadata": {},
   "outputs": [],
   "source": [
    "# Import arcpy\n",
    "import arcpy"
   ]
  },
  {
   "cell_type": "code",
   "execution_count": 3,
   "metadata": {},
   "outputs": [
    {
     "data": {
      "text/plain": [
       "True"
      ]
     },
     "execution_count": 3,
     "metadata": {},
     "output_type": "execute_result"
    }
   ],
   "source": [
    "# Let's specify the workspace\n",
    "arcpy.env.workspace = \"C:/EsriTraining/firestation.gdb\"\n",
    "\n",
    "# arcpy.Exists() is used to check if a geodatabase, \n",
    "# layer or a shapefile exists where you specified\n",
    "\n",
    "arcpy.Exists(arcpy.env.workspace)"
   ]
  },
  {
   "cell_type": "code",
   "execution_count": 4,
   "metadata": {},
   "outputs": [
    {
     "name": "stdout",
     "output_type": "stream",
     "text": [
      "Environmentally_sensitive_area\n",
      "School\n",
      "Existing_fire_station\n",
      "Sites1\n"
     ]
    }
   ],
   "source": [
    "# Use the ListFeatureClasses function to return \n",
    "# the list of feature classes (layers) contained in the \n",
    "# geodatabase\n",
    "\n",
    "feature_classes = arcpy.ListFeatureClasses()\n",
    "# print(feature_classes)\n",
    "\n",
    "# Feature class and layers are interchangable terms in our class\n",
    "for fc in feature_classes:\n",
    "    print(fc)"
   ]
  },
  {
   "cell_type": "code",
   "execution_count": 5,
   "metadata": {},
   "outputs": [
    {
     "name": "stdout",
     "output_type": "stream",
     "text": [
      "Polygon NAD_1983_StatePlane_California_VI_FIPS_0406_Feet\n"
     ]
    }
   ],
   "source": [
    "# How to access individual layers?\n",
    "\n",
    "# \"C:/EsriTraining/firestation.gdb/Sites1\n",
    "sites_layer = arcpy.env.workspace + \"/Sites1\"\n",
    "\n",
    "# Get the description of the layer using the Describe() function\n",
    "desc = arcpy.Describe(sites_layer)\n",
    "\n",
    "# Access the shapeType property of the description\n",
    "geometry_type = desc.shapeType\n",
    "\n",
    "# Get the coordinate system\n",
    "cs = desc.spatialReference.name\n",
    "\n",
    "print(geometry_type, cs)"
   ]
  },
  {
   "cell_type": "code",
   "execution_count": 6,
   "metadata": {},
   "outputs": [
    {
     "name": "stdout",
     "output_type": "stream",
     "text": [
      "Feature Class 1\n",
      "Name:\tEnvironmentally_sensitive_area\n",
      "Geom:\tPolygon\n",
      "CS:\tNAD_1983_StatePlane_California_VI_FIPS_0406_Feet\n",
      "\n",
      "Feature Class 2\n",
      "Name:\tSchool\n",
      "Geom:\tPoint\n",
      "CS:\tNAD_1983_StatePlane_California_VI_FIPS_0406_Feet\n",
      "\n",
      "Feature Class 3\n",
      "Name:\tExisting_fire_station\n",
      "Geom:\tPoint\n",
      "CS:\tNAD_1983_StatePlane_California_VI_FIPS_0406_Feet\n",
      "\n",
      "Feature Class 4\n",
      "Name:\tSites1\n",
      "Geom:\tPolygon\n",
      "CS:\tNAD_1983_StatePlane_California_VI_FIPS_0406_Feet\n",
      "\n"
     ]
    }
   ],
   "source": [
    "# Write a script to list all feature layers, \n",
    "# accompanied by their geometry and coordinate system\n",
    "\n",
    "# name: Environmentally_sensitive_area\n",
    "# geometry: Polygon\n",
    "# CS: NAD_1983_StatePlane_California_VI_FIPS_0406_Feet\n",
    "\n",
    "# name: School\n",
    "# geometry: Point\n",
    "# CS: NAD_1983_StatePlane_California_VI_FIPS_0406_Feet\n",
    "\n",
    "# ...\n",
    "# ..\n",
    "# .\n",
    "\n",
    "counter = 1\n",
    "for fc in feature_classes:\n",
    "    my_layer = arcpy.env.workspace + \"/\" + fc\n",
    "    # print(my_layer)\n",
    "    \n",
    "    my_desc = arcpy.Describe(my_layer)\n",
    "    my_geometry_type = my_desc.shapeType\n",
    "    my_cs = my_desc.spatialReference.name\n",
    "    \n",
    "    print(\"Feature Class\", counter )\n",
    "    print(\"Name:\\t\" + fc + \"\\nGeom:\\t\" + my_geometry_type + \"\\nCS:\\t\" + my_cs + \"\\n\")\n",
    "    counter += 1"
   ]
  },
  {
   "cell_type": "code",
   "execution_count": 7,
   "metadata": {},
   "outputs": [
    {
     "name": "stdout",
     "output_type": "stream",
     "text": [
      "Feature Class 1\n",
      "Name:\tSchool\n",
      "Geom:\tPoint\n",
      "CS:\tNAD_1983_StatePlane_California_VI_FIPS_0406_Feet\n",
      "\n",
      "Feature Class 2\n",
      "Name:\tExisting_fire_station\n",
      "Geom:\tPoint\n",
      "CS:\tNAD_1983_StatePlane_California_VI_FIPS_0406_Feet\n",
      "\n",
      "Feature Class 3\n",
      "Name:\tSites1\n",
      "Geom:\tPolygon\n",
      "CS:\tNAD_1983_StatePlane_California_VI_FIPS_0406_Feet\n",
      "\n"
     ]
    }
   ],
   "source": [
    "# Do the same exercise, but only print\n",
    "# layers that have the Point shape OR\n",
    "# layers whose name starts with the S letter\n",
    "\n",
    "counter = 1\n",
    "for fc in feature_classes:\n",
    "    my_layer = arcpy.env.workspace + \"/\" + fc\n",
    "    # print(my_layer)\n",
    "    \n",
    "    my_desc = arcpy.Describe(my_layer)\n",
    "    my_geometry_type = my_desc.shapeType\n",
    "    my_cs = my_desc.spatialReference.name\n",
    "    \n",
    "    if my_geometry_type == \"Point\" or fc[0] == \"S\":    \n",
    "        print(\"Feature Class\", counter )\n",
    "        print(\"Name:\\t\" + fc + \"\\nGeom:\\t\" + my_geometry_type + \"\\nCS:\\t\" + my_cs + \"\\n\")\n",
    "        counter += 1"
   ]
  },
  {
   "cell_type": "code",
   "execution_count": 8,
   "metadata": {},
   "outputs": [
    {
     "name": "stdout",
     "output_type": "stream",
     "text": [
      "Feature Class 1\n",
      "Name:\tSchool\n",
      "Geom:\tPoint\n",
      "CS: \tNAD_1983_StatePlane_California_VI_FIPS_0406_Feet\n",
      "\n",
      "Feature Class 2\n",
      "Name:\tExisting_fire_station\n",
      "Geom:\tPoint\n",
      "CS: \tNAD_1983_StatePlane_California_VI_FIPS_0406_Feet\n",
      "\n",
      "Feature Class 3\n",
      "Name:\tSites1\n",
      "Geom:\tPolygon\n",
      "CS: \tNAD_1983_StatePlane_California_VI_FIPS_0406_Feet\n",
      "\n"
     ]
    }
   ],
   "source": [
    "# Paul's solution\n",
    "\n",
    "counter = 1\n",
    "for fc in feature_classes:\n",
    "    my_layer = arcpy.env.workspace + \"/\" + fc\n",
    "#    print(my_layer)\n",
    "    my_desc = arcpy.Describe(my_layer)\n",
    "    my_geometry_type = my_desc.shapeType\n",
    "    my_cs = my_desc.spatialReference.name\n",
    "    if my_geometry_type == \"Point\":    \n",
    "     print(\"Feature Class\", counter)\n",
    "     print(\"Name:\\t\" + fc + \"\\nGeom:\\t\" + my_geometry_type + \"\\nCS: \\t\" + my_cs + \"\\n\")\n",
    "     counter += 1\n",
    "    elif fc[0] == \"S\":\n",
    "     print(\"Feature Class\", counter)\n",
    "     print(\"Name:\\t\" + fc + \"\\nGeom:\\t\" + my_geometry_type + \"\\nCS: \\t\" + my_cs + \"\\n\")\n",
    "     counter += 1\n"
   ]
  },
  {
   "cell_type": "code",
   "execution_count": 9,
   "metadata": {},
   "outputs": [
    {
     "name": "stdout",
     "output_type": "stream",
     "text": [
      "OBJECTID\n",
      "Shape\n",
      "APN\n",
      "APN_8\n",
      "PARCELID\n",
      "LEGLDESC\n",
      "ASR_LAND\n",
      "ASR_IMPR\n",
      "ASR_TOTAL\n",
      "ACREAGE\n",
      "ASR_LANDUS\n",
      "OWNER\n",
      "Shape_Length\n",
      "Shape_Area\n"
     ]
    }
   ],
   "source": [
    "# Get all the field names\n",
    "fields = arcpy.ListFields(sites_layer)\n",
    "\n",
    "for field in fields:\n",
    "    print(field.name)"
   ]
  },
  {
   "cell_type": "code",
   "execution_count": 10,
   "metadata": {},
   "outputs": [
    {
     "name": "stdout",
     "output_type": "stream",
     "text": [
      "FC: Environmentally_sensitive_area\n",
      "OBJECTID\n",
      "Shape\n",
      "Id\n",
      "Shape_Length\n",
      "Shape_Area\n",
      "\n",
      "\n",
      "FC: School\n",
      "OBJECTID_1\n",
      "Shape\n",
      "ObjectID\n",
      "NAME\n",
      "ELEV_METER\n",
      "\n",
      "\n",
      "FC: Existing_fire_station\n",
      "OBJECTID_1\n",
      "Shape\n",
      "OBJECTID\n",
      "STAT_TYPE\n",
      "STA_NUM\n",
      "NAME\n",
      "Year\n",
      "\n",
      "\n",
      "FC: Sites1\n",
      "OBJECTID\n",
      "Shape\n",
      "APN\n",
      "APN_8\n",
      "PARCELID\n",
      "LEGLDESC\n",
      "ASR_LAND\n",
      "ASR_IMPR\n",
      "ASR_TOTAL\n",
      "ACREAGE\n",
      "ASR_LANDUS\n",
      "OWNER\n",
      "Shape_Length\n",
      "Shape_Area\n",
      "\n",
      "\n"
     ]
    }
   ],
   "source": [
    "# How do you get all the fields inside all the feature classes (layers)\n",
    "# in our firestation geodatabase?\n",
    "\n",
    "for fc in feature_classes:\n",
    "    fields = arcpy.ListFields(fc)\n",
    "    print(\"FC: \" + fc)\n",
    "    \n",
    "    for field in fields:\n",
    "        print(field.name)\n",
    "    print(\"\\n\")"
   ]
  },
  {
   "cell_type": "code",
   "execution_count": 11,
   "metadata": {},
   "outputs": [
    {
     "name": "stdout",
     "output_type": "stream",
     "text": [
      "15344\n"
     ]
    }
   ],
   "source": [
    "# Get the record count\n",
    "record_count = arcpy.GetCount_management(sites_layer)\n",
    "print(record_count)"
   ]
  },
  {
   "cell_type": "code",
   "execution_count": 12,
   "metadata": {},
   "outputs": [
    {
     "name": "stdout",
     "output_type": "stream",
     "text": [
      "(1, (6327935.525107428, 1928730.895475179), 14400, 'Garden Road Elementary School', 170.0)\n",
      "(2, (6311769.042020515, 1931784.0639095008), 15243, 'Meadowbrook Middle School', 162.0)\n",
      "(3, (6320379.467056841, 1932425.4297527522), 15272, 'Midland School', 161.0)\n",
      "(4, (6312091.713291168, 1929456.9658734202), 15742, 'Pomerado Elementary School', 148.0)\n",
      "(5, (6324213.5991523415, 1943918.5796666741), 15757, 'Poway High School', 246.0)\n",
      "(6, (6337619.360070422, 1939360.179990843), 16094, 'Saint Michaels School', 193.0)\n",
      "(7, (6317533.316581175, 1927898.9020604193), 16589, 'Valley Elementary School', 147.0)\n",
      "(8, (6316025.544334263, 1953480.8800958395), 152120, 'Chaparral Elementary School', 200.0)\n",
      "(9, (6319833.928777844, 1950419.8156799227), 152130, 'Painted Rock Elementary School', 181.0)\n",
      "(10, (6319889.133063763, 1936781.5109355897), 152186, 'Tierra Bonita Elementary School', 186.0)\n",
      "(11, (6322088.278599843, 1934311.3232906759), 152188, 'Twin Peaks Middle School', 178.0)\n",
      "(12, (6312065.28716293, 1938189.6738016754), 152195, 'Abraxas Continuation High School', 176.0)\n",
      "(13, (6324428.3867805, 1929362.2131101787), 185499, 'Mount Olive Lutheran Preschool', 169.0)\n",
      "(14, (6312344.503468007, 1929630.8775990903), 185516, 'Poway Christian School', 145.0)\n"
     ]
    }
   ],
   "source": [
    "# How to browse through all the records?\n",
    "# When we deal with records, we use Cursors\n",
    "# There are SearchCursor, UpdateCursor ...\n",
    "# To browse, we will use the SearchCursor\n",
    "# to iterate through all the records\n",
    "\n",
    "school_layer = arcpy.env.workspace + \"/School\"\n",
    "\n",
    "with arcpy.da.SearchCursor(school_layer, [\"*\"]) as cursor:\n",
    "    for row in cursor:\n",
    "        print(row)"
   ]
  },
  {
   "cell_type": "code",
   "execution_count": 13,
   "metadata": {},
   "outputs": [
    {
     "name": "stdout",
     "output_type": "stream",
     "text": [
      "(1, (6327935.525107428, 1928730.895475179), 14400, 'Garden Road Elementary School', 170.0)\n",
      "(2, (6311769.042020515, 1931784.0639095008), 15243, 'Meadowbrook Middle School', 162.0)\n",
      "(3, (6320379.467056841, 1932425.4297527522), 15272, 'Midland School', 161.0)\n",
      "(4, (6312091.713291168, 1929456.9658734202), 15742, 'Pomerado Elementary School', 148.0)\n",
      "(5, (6324213.5991523415, 1943918.5796666741), 15757, 'Poway High School', 246.0)\n",
      "(6, (6337619.360070422, 1939360.179990843), 16094, 'Saint Michaels School', 193.0)\n",
      "(7, (6317533.316581175, 1927898.9020604193), 16589, 'Valley Elementary School', 147.0)\n",
      "(8, (6316025.544334263, 1953480.8800958395), 152120, 'Chaparral Elementary School', 200.0)\n",
      "(9, (6319833.928777844, 1950419.8156799227), 152130, 'Painted Rock Elementary School', 181.0)\n",
      "(10, (6319889.133063763, 1936781.5109355897), 152186, 'Tierra Bonita Elementary School', 186.0)\n",
      "(11, (6322088.278599843, 1934311.3232906759), 152188, 'Twin Peaks Middle School', 178.0)\n",
      "(12, (6312065.28716293, 1938189.6738016754), 152195, 'Abraxas Continuation High School', 176.0)\n",
      "(13, (6324428.3867805, 1929362.2131101787), 185499, 'Mount Olive Lutheran Preschool', 169.0)\n",
      "(14, (6312344.503468007, 1929630.8775990903), 185516, 'Poway Christian School', 145.0)\n"
     ]
    }
   ],
   "source": [
    "school_layer = arcpy.env.workspace + \"/School\"\n",
    "\n",
    "\n",
    "for row in arcpy.da.SearchCursor(school_layer, [\"*\"]):\n",
    "    print(row)"
   ]
  },
  {
   "cell_type": "code",
   "execution_count": 14,
   "metadata": {},
   "outputs": [
    {
     "name": "stdout",
     "output_type": "stream",
     "text": [
      "222\n"
     ]
    }
   ],
   "source": [
    "# Count how many parcels are owned by the CITY in Sites1 layer\n",
    "\n",
    "count_city_parcel = 0\n",
    "\n",
    "for row in arcpy.da.SearchCursor(sites_layer, ['*']):\n",
    "    if (row[-3] == \"CITY\"):\n",
    "        count_city_parcel += 1\n",
    "    #print(row[-3])\n",
    "print(count_city_parcel)\n"
   ]
  },
  {
   "cell_type": "code",
   "execution_count": 15,
   "metadata": {},
   "outputs": [
    {
     "name": "stdout",
     "output_type": "stream",
     "text": [
      "222\n"
     ]
    }
   ],
   "source": [
    "# Count how many parcels are owned by the CITY in Sites1 layer\n",
    "\n",
    "count_city_parcel = 0\n",
    "\n",
    "for row in arcpy.da.SearchCursor(sites_layer, ['OWNER']):\n",
    "    if (row[0] == \"CITY\"):\n",
    "        count_city_parcel += 1\n",
    "    #print(row[-3])\n",
    "print(count_city_parcel)"
   ]
  },
  {
   "cell_type": "code",
   "execution_count": 16,
   "metadata": {},
   "outputs": [
    {
     "data": {
      "text/html": [
       "<h2>Output</h2>C:/EsriTraining/firestation.gdb\\School_Buffer<h2>Messages</h2>Start Time: Wednesday, February 24, 2021 6:25:07 PM<br/>Succeeded at Wednesday, February 24, 2021 6:25:08 PM (Elapsed Time: 0.89 seconds)<br/><style>.rendered_html td, .rendered_html th {text-align: left;}.rendered_html tbody {border: 1px solid black;}</style>"
      ],
      "text/plain": [
       "<Result 'C:/EsriTraining/firestation.gdb\\\\School_Buffer'>"
      ]
     },
     "execution_count": 16,
     "metadata": {},
     "output_type": "execute_result"
    }
   ],
   "source": [
    "# Do the buffers\n",
    "# Env sen area -> 2km\n",
    "# School -> 2km\n",
    "# Existing fire station -> 3km\n",
    "\n",
    "# How to enable overwriting files\n",
    "arcpy.env.overwriteOutput = True\n",
    "\n",
    "if arcpy.Exists(\"Firestation_Buffer\"):\n",
    "    arcpy.Delete_management(\"Firestation_Buffer\")\n",
    "if arcpy.Exists(\"Environmentally_sensitive_area_Buffer\"):\n",
    "    arcpy.Delete_management(\"Environmentally_sensitive_area_Buffer\")\n",
    "if arcpy.Exists(\"School_Buffer\"):\n",
    "    arcpy.Delete_management(\"School_Buffer\")\n",
    "    \n",
    "arcpy.Buffer_analysis(\"Existing_fire_station\", \n",
    "                      \"Firestation_Buffer\", \"3 Kilometers\")\n",
    "arcpy.Buffer_analysis(\"Environmentally_sensitive_area\", \n",
    "                      \"Environmentally_sensitive_area_Buffer\", \"2 Kilometers\")\n",
    "arcpy.Buffer_analysis(\"School\", \"School_Buffer\", \"2 Kilometers\")"
   ]
  },
  {
   "cell_type": "code",
   "execution_count": 18,
   "metadata": {},
   "outputs": [
    {
     "data": {
      "text/html": [
       "<h2>Output</h2>C:/EsriTraining/firestation.gdb\\Criteria_Union<h2>Messages</h2>Start Time: Wednesday, February 24, 2021 6:38:12 PM<br/>Reading Features...<br/>Cracking Features...<br/>Assembling Features...<br/>Succeeded at Wednesday, February 24, 2021 6:38:13 PM (Elapsed Time: 1.29 seconds)<br/><style>.rendered_html td, .rendered_html th {text-align: left;}.rendered_html tbody {border: 1px solid black;}</style>"
      ],
      "text/plain": [
       "<Result 'C:/EsriTraining/firestation.gdb\\\\Criteria_Union'>"
      ]
     },
     "execution_count": 18,
     "metadata": {},
     "output_type": "execute_result"
    }
   ],
   "source": [
    "# Let's do the union analysis\n",
    "arcpy.Union_analysis([\"Firestation_Buffer\", \"Environmentally_sensitive_area_Buffer\", \"School_Buffer\"], \n",
    "                     \"Criteria_Union\")"
   ]
  },
  {
   "cell_type": "code",
   "execution_count": 19,
   "metadata": {},
   "outputs": [
    {
     "data": {
      "text/html": [
       "<h2>Output</h2>C:/EsriTraining/firestation.gdb\\Criteria_Dissolve<h2>Messages</h2>Start Time: Wednesday, February 24, 2021 6:41:35 PM<br/>Dissolving...<br/>Succeeded at Wednesday, February 24, 2021 6:41:37 PM (Elapsed Time: 2.18 seconds)<br/><style>.rendered_html td, .rendered_html th {text-align: left;}.rendered_html tbody {border: 1px solid black;}</style>"
      ],
      "text/plain": [
       "<Result 'C:/EsriTraining/firestation.gdb\\\\Criteria_Dissolve'>"
      ]
     },
     "execution_count": 19,
     "metadata": {},
     "output_type": "execute_result"
    }
   ],
   "source": [
    "# Dissolve all union features\n",
    "arcpy.Dissolve_management(\"Criteria_Union\", \"Criteria_Dissolve\")"
   ]
  },
  {
   "cell_type": "code",
   "execution_count": 20,
   "metadata": {},
   "outputs": [
    {
     "data": {
      "text/html": [
       "<h2>Output</h2>C:/EsriTraining/firestation.gdb\\First_Step<h2>Messages</h2>Start Time: Wednesday, February 24, 2021 6:46:00 PM<br/>Reading Features...<br/>Cracking Features...<br/>Assembling Features...<br/>Succeeded at Wednesday, February 24, 2021 6:46:03 PM (Elapsed Time: 2.54 seconds)<br/><style>.rendered_html td, .rendered_html th {text-align: left;}.rendered_html tbody {border: 1px solid black;}</style>"
      ],
      "text/plain": [
       "<Result 'C:/EsriTraining/firestation.gdb\\\\First_Step'>"
      ]
     },
     "execution_count": 20,
     "metadata": {},
     "output_type": "execute_result"
    }
   ],
   "source": [
    "# Conduct erase analysis\n",
    "arcpy.Erase_analysis(\"Sites1\", \"Criteria_Dissolve\", \"First_Step\")"
   ]
  },
  {
   "cell_type": "code",
   "execution_count": 22,
   "metadata": {},
   "outputs": [
    {
     "data": {
      "text/html": [
       "<h2>Output</h2>C:/EsriTraining/firestation.gdb\\First_Step<h2>Messages</h2>Start Time: Wednesday, February 24, 2021 6:50:06 PM<br/>Succeeded at Wednesday, February 24, 2021 6:50:06 PM (Elapsed Time: 0.24 seconds)<br/><style>.rendered_html td, .rendered_html th {text-align: left;}.rendered_html tbody {border: 1px solid black;}</style>"
      ],
      "text/plain": [
       "<Result 'C:/EsriTraining/firestation.gdb\\\\First_Step'>"
      ]
     },
     "execution_count": 22,
     "metadata": {},
     "output_type": "execute_result"
    }
   ],
   "source": [
    "# Criteria 2 ...\n",
    "\n",
    "# First add area in sq meters\n",
    "arcpy.AddField_management(\"First_Step\",\"area_sq_meters\",\"Double\")\n",
    "expression1 = \"{0}\".format(\"!SHAPE.area@SQUAREMETERS!\")       \n",
    "arcpy.CalculateField_management(\"First_Step\", \"area_sq_meters\",\n",
    "                                expression1, \"PYTHON\", )"
   ]
  },
  {
   "cell_type": "code",
   "execution_count": 26,
   "metadata": {},
   "outputs": [
    {
     "data": {
      "text/plain": [
       "<geoprocessing server result object at 0x232ef02a480>"
      ]
     },
     "execution_count": 26,
     "metadata": {},
     "output_type": "execute_result"
    }
   ],
   "source": [
    "# Zonal Statistics as Table\n",
    "\n",
    "# arcpy.gp.ZonalStatisticsAsTable for 2.5\n",
    "# arcpy.sa.ZonalStatisticsAsTable for 2.7\n",
    "arcpy.sa.ZonalStatisticsAsTable(\"First_Step\", \"OBJECTID\", \"Slope\", \"SlopeStatistics\",\n",
    "                               \"NODATA\", \"MEAN\")"
   ]
  },
  {
   "cell_type": "code",
   "execution_count": 27,
   "metadata": {},
   "outputs": [
    {
     "data": {
      "text/html": [
       "<h2>Output</h2>C:/EsriTraining/firestation.gdb\\First_Step<h2>Messages</h2>Start Time: Wednesday, February 24, 2021 6:59:55 PM<br/>Succeeded at Wednesday, February 24, 2021 6:59:56 PM (Elapsed Time: 1.04 seconds)<br/><style>.rendered_html td, .rendered_html th {text-align: left;}.rendered_html tbody {border: 1px solid black;}</style>"
      ],
      "text/plain": [
       "<Result 'C:/EsriTraining/firestation.gdb\\\\First_Step'>"
      ]
     },
     "execution_count": 27,
     "metadata": {},
     "output_type": "execute_result"
    }
   ],
   "source": [
    "# Join the zonal statistics to the First_Step feature class\n",
    "arcpy.JoinField_management(\"First_Step\", \"OBJECTID\", \"SlopeStatistics\", \"OBJECTID_1\")"
   ]
  },
  {
   "cell_type": "code",
   "execution_count": 28,
   "metadata": {},
   "outputs": [
    {
     "data": {
      "text/html": [
       "<h2>Output</h2>a Layer object<h2>Messages</h2>Start Time: Wednesday, February 24, 2021 7:02:15 PM<br/>Succeeded at Wednesday, February 24, 2021 7:02:15 PM (Elapsed Time: 0.08 seconds)<br/><style>.rendered_html td, .rendered_html th {text-align: left;}.rendered_html tbody {border: 1px solid black;}</style>"
      ],
      "text/plain": [
       "<Result 'Final_Selection_Lyr'>"
      ]
     },
     "execution_count": 28,
     "metadata": {},
     "output_type": "execute_result"
    }
   ],
   "source": [
    "# Let's create a feature layer for selection\n",
    "arcpy.MakeFeatureLayer_management(\"First_Step\", \"Final_Selection_Lyr\")"
   ]
  },
  {
   "cell_type": "code",
   "execution_count": 32,
   "metadata": {},
   "outputs": [
    {
     "data": {
      "text/html": [
       "<h2>Output</h2><table><tr><th>id</th><th>value</th></tr><tr><td>0</td><td>a Layer object</td></tr><tr><td>1</td><td>2</td></tr></table><h2>Messages</h2>Start Time: Wednesday, February 24, 2021 7:06:08 PM<br/>Succeeded at Wednesday, February 24, 2021 7:06:08 PM (Elapsed Time: 0.02 seconds)<br/><style>.rendered_html td, .rendered_html th {text-align: left;}.rendered_html tbody {border: 1px solid black;}</style>"
      ],
      "text/plain": [
       "<Result 'Final_Selection_Lyr'>"
      ]
     },
     "execution_count": 32,
     "metadata": {},
     "output_type": "execute_result"
    }
   ],
   "source": [
    "# Define and conduct a query\n",
    "query = \"area_sq_meters > 45000 and OWNER = 'CITY' and MEAN <= 9\"\n",
    "arcpy.SelectLayerByAttribute_management(\"Final_Selection_Lyr\", \"NEW_SELECTION\", query)"
   ]
  },
  {
   "cell_type": "code",
   "execution_count": 33,
   "metadata": {},
   "outputs": [
    {
     "data": {
      "text/html": [
       "<h2>Output</h2>C:/EsriTraining/firestation.gdb\\Final_Result<h2>Messages</h2>Start Time: Wednesday, February 24, 2021 7:08:21 PM<br/>Succeeded at Wednesday, February 24, 2021 7:08:22 PM (Elapsed Time: 1.21 seconds)<br/><style>.rendered_html td, .rendered_html th {text-align: left;}.rendered_html tbody {border: 1px solid black;}</style>"
      ],
      "text/plain": [
       "<Result 'C:/EsriTraining/firestation.gdb\\\\Final_Result'>"
      ]
     },
     "execution_count": 33,
     "metadata": {},
     "output_type": "execute_result"
    }
   ],
   "source": [
    "# Final Step\n",
    "# Put all the parcels that match all the criteria\n",
    "# into a separate feature class\n",
    "\n",
    "arcpy.CopyFeatures_management(\"Final_Selection_Lyr\", \"Final_Result\")"
   ]
  },
  {
   "cell_type": "code",
   "execution_count": null,
   "metadata": {},
   "outputs": [],
   "source": []
  }
 ],
 "metadata": {
  "kernelspec": {
   "display_name": "Python 3",
   "language": "python",
   "name": "python3"
  },
  "language_info": {
   "codemirror_mode": {
    "name": "ipython",
    "version": 3
   },
   "file_extension": ".py",
   "mimetype": "text/x-python",
   "name": "python",
   "nbconvert_exporter": "python",
   "pygments_lexer": "ipython3",
   "version": "3.7.9"
  }
 },
 "nbformat": 4,
 "nbformat_minor": 4
}
