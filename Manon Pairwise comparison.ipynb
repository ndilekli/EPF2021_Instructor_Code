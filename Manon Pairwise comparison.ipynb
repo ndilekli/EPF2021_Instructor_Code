{
 "cells": [
  {
   "cell_type": "code",
   "execution_count": 14,
   "metadata": {},
   "outputs": [
    {
     "name": "stdout",
     "output_type": "stream",
     "text": [
      "['Slope', 'Aspect', 'Arithmetic', 'Damage', 'con1', 'con2', 'arithmetic3', 'con3', 'classify', 'damage_normalized', 'minmap']\n",
      "Slope\n",
      "Aspect\n",
      "Arithmetic\n",
      "Damage\n",
      "con1\n",
      "con2\n",
      "arithmetic3\n",
      "con3\n",
      "classify\n",
      "damage_normalized\n",
      "minmap\n"
     ]
    }
   ],
   "source": [
    "import arcpy\n",
    "\n",
    "root = \"C:/EsriTraining\"\n",
    "rgdb = \"outraster.gdb\"\n",
    "\n",
    "raster_gdb = root + \"/\" + rgdb\n",
    "\n",
    "arcpy.env.workspace = raster_gdb\n",
    "\n",
    "# Get and print a list of GRIDs from the workspace\n",
    "rasters = arcpy.ListRasters(\"*\", \"GRID\")\n",
    "# print(rasters)\n",
    "minraster = rasters[0]\n",
    "for raster in rasters:\n",
    "    minraster = arcpy.sa.Con(raster<minraster, raster, minraster)\n",
    "    print(raster)\n",
    "minraster.save(\"C:/EsriTraining/[some other clean geodatabase]/minraster\")"
   ]
  },
  {
   "cell_type": "code",
   "execution_count": 5,
   "metadata": {},
   "outputs": [],
   "source": [
    "slope = arcpy.Raster(\"Slope\")\n",
    "aspect = arcpy.Raster(\"Aspect\")\n",
    "\n",
    "minmap = arcpy.sa.Con(slope<aspect, slope, aspect)\n",
    "\n",
    "minmap.save(\"minmap\")"
   ]
  },
  {
   "cell_type": "code",
   "execution_count": 11,
   "metadata": {},
   "outputs": [
    {
     "data": {
      "text/plain": [
       "[True, True, False, False, True, False, False, False, False, True, True, True]"
      ]
     },
     "execution_count": 11,
     "metadata": {},
     "output_type": "execute_result"
    }
   ],
   "source": []
  }
 ],
 "metadata": {
  "kernelspec": {
   "display_name": "Python 3",
   "language": "python",
   "name": "python3"
  },
  "language_info": {
   "codemirror_mode": {
    "name": "ipython",
    "version": 3
   },
   "file_extension": ".py",
   "mimetype": "text/x-python",
   "name": "python",
   "nbconvert_exporter": "python",
   "pygments_lexer": "ipython3",
   "version": "3.7.9"
  }
 },
 "nbformat": 4,
 "nbformat_minor": 4
}
