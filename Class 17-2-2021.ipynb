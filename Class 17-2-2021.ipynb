{
 "cells": [
  {
   "cell_type": "code",
   "execution_count": 1,
   "metadata": {},
   "outputs": [],
   "source": [
    "fruits = [\"apple\", \"banana\", \"pear\"]"
   ]
  },
  {
   "cell_type": "code",
   "execution_count": 3,
   "metadata": {},
   "outputs": [
    {
     "name": "stdout",
     "output_type": "stream",
     "text": [
      "apple\n"
     ]
    }
   ],
   "source": [
    "print(fruits[0])"
   ]
  },
  {
   "cell_type": "code",
   "execution_count": 4,
   "metadata": {},
   "outputs": [],
   "source": [
    "# Lists are mutable\n",
    "fruits[0] = \"kiwi\""
   ]
  },
  {
   "cell_type": "code",
   "execution_count": 5,
   "metadata": {},
   "outputs": [
    {
     "name": "stdout",
     "output_type": "stream",
     "text": [
      "kiwi\n"
     ]
    }
   ],
   "source": [
    "print(fruits[0])"
   ]
  },
  {
   "cell_type": "code",
   "execution_count": 6,
   "metadata": {},
   "outputs": [
    {
     "name": "stdout",
     "output_type": "stream",
     "text": [
      "3\n",
      "6\n"
     ]
    }
   ],
   "source": [
    "print(len(fruits))\n",
    "print(len(fruits[1]))"
   ]
  },
  {
   "cell_type": "code",
   "execution_count": 7,
   "metadata": {},
   "outputs": [],
   "source": [
    "my_list = [2.1, [\"Lucia\", 0, \"Manone\", \"Hugo\", 2], 2]"
   ]
  },
  {
   "cell_type": "code",
   "execution_count": 8,
   "metadata": {},
   "outputs": [
    {
     "name": "stdout",
     "output_type": "stream",
     "text": [
      "['Lucia', 0, 'Manone', 'Hugo', 2]\n"
     ]
    }
   ],
   "source": [
    "print(my_list[1])"
   ]
  },
  {
   "cell_type": "code",
   "execution_count": 9,
   "metadata": {},
   "outputs": [
    {
     "name": "stdout",
     "output_type": "stream",
     "text": [
      "Hugo\n"
     ]
    }
   ],
   "source": [
    "print(my_list[1][3])"
   ]
  },
  {
   "cell_type": "code",
   "execution_count": 14,
   "metadata": {},
   "outputs": [
    {
     "name": "stdout",
     "output_type": "stream",
     "text": [
      "['Lucia', 0, 'Manone', 'Hugo', 2]\n",
      "0\n",
      "2.1\n"
     ]
    }
   ],
   "source": [
    "print(my_list[1])\n",
    "print(my_list[1][1])\n",
    "print(my_list[0])"
   ]
  },
  {
   "cell_type": "code",
   "execution_count": 10,
   "metadata": {},
   "outputs": [
    {
     "name": "stdout",
     "output_type": "stream",
     "text": [
      "2.1\n"
     ]
    }
   ],
   "source": [
    "print(my_list[my_list[1][1]])"
   ]
  },
  {
   "cell_type": "code",
   "execution_count": 15,
   "metadata": {},
   "outputs": [],
   "source": [
    "# Append to the top list\n",
    "my_list.append(\"Paul\")"
   ]
  },
  {
   "cell_type": "code",
   "execution_count": 16,
   "metadata": {},
   "outputs": [
    {
     "name": "stdout",
     "output_type": "stream",
     "text": [
      "[2.1, ['Lucia', 0, 'Manone', 'Hugo', 2], 2, 'Paul']\n"
     ]
    }
   ],
   "source": [
    "print(my_list)"
   ]
  },
  {
   "cell_type": "code",
   "execution_count": 17,
   "metadata": {},
   "outputs": [],
   "source": [
    "# Append to the sub-list\n",
    "my_list[1].append(\"Matheo\")"
   ]
  },
  {
   "cell_type": "code",
   "execution_count": 18,
   "metadata": {},
   "outputs": [
    {
     "name": "stdout",
     "output_type": "stream",
     "text": [
      "[2.1, ['Lucia', 0, 'Manone', 'Hugo', 2, 'Matheo'], 2, 'Paul']\n"
     ]
    }
   ],
   "source": [
    "print(my_list)"
   ]
  },
  {
   "cell_type": "code",
   "execution_count": 19,
   "metadata": {},
   "outputs": [
    {
     "name": "stdout",
     "output_type": "stream",
     "text": [
      "2\n"
     ]
    }
   ],
   "source": [
    "# A bit more complex example\n",
    "print(my_list[my_list[2]-1][len(my_list[-1])])"
   ]
  },
  {
   "cell_type": "code",
   "execution_count": 23,
   "metadata": {},
   "outputs": [
    {
     "name": "stdout",
     "output_type": "stream",
     "text": [
      "1\n",
      "Paul\n",
      "4\n",
      "2\n"
     ]
    }
   ],
   "source": [
    "print(my_list[2]-1)\n",
    "print(my_list[-1])\n",
    "print(len(my_list[-1]))\n",
    "print(my_list[1][4])"
   ]
  },
  {
   "cell_type": "code",
   "execution_count": 25,
   "metadata": {},
   "outputs": [
    {
     "data": {
      "text/plain": [
       "2"
      ]
     },
     "execution_count": 25,
     "metadata": {},
     "output_type": "execute_result"
    }
   ],
   "source": [
    "# How to remove an item\n",
    "my_list.pop(2)"
   ]
  },
  {
   "cell_type": "code",
   "execution_count": 26,
   "metadata": {},
   "outputs": [
    {
     "name": "stdout",
     "output_type": "stream",
     "text": [
      "[2.1, ['Lucia', 0, 'Manone', 'Hugo', 2, 'Matheo'], 'Paul']\n"
     ]
    }
   ],
   "source": [
    "print(my_list)"
   ]
  },
  {
   "cell_type": "code",
   "execution_count": 27,
   "metadata": {},
   "outputs": [
    {
     "name": "stdout",
     "output_type": "stream",
     "text": [
      "[2.1, ['Lucia', 0, 'Hugo', 2, 'Matheo'], 'Paul']\n"
     ]
    }
   ],
   "source": [
    "# how to remove an item from a sublist\n",
    "my_list[1].pop(2)\n",
    "print(my_list)"
   ]
  },
  {
   "cell_type": "code",
   "execution_count": 32,
   "metadata": {},
   "outputs": [],
   "source": [
    "my_list.append(\"Paul\")"
   ]
  },
  {
   "cell_type": "code",
   "execution_count": 33,
   "metadata": {},
   "outputs": [
    {
     "name": "stdout",
     "output_type": "stream",
     "text": [
      "[2.1, ['Lucia', 0, 'Hugo', 2, 'Matheo'], 'Paul', 'Paul', 'Paul', 'Paul', 'Paul', 'Paul']\n"
     ]
    }
   ],
   "source": [
    "print(my_list)"
   ]
  },
  {
   "cell_type": "code",
   "execution_count": 34,
   "metadata": {},
   "outputs": [],
   "source": [
    "# Replace my_list with the contents of the sliced portion of the list\n",
    "my_list = my_list[0:3]"
   ]
  },
  {
   "cell_type": "code",
   "execution_count": 35,
   "metadata": {},
   "outputs": [
    {
     "name": "stdout",
     "output_type": "stream",
     "text": [
      "[2.1, ['Lucia', 0, 'Hugo', 2, 'Matheo'], 'Paul']\n"
     ]
    }
   ],
   "source": [
    "print(my_list)"
   ]
  },
  {
   "cell_type": "code",
   "execution_count": 37,
   "metadata": {},
   "outputs": [
    {
     "name": "stdout",
     "output_type": "stream",
     "text": [
      "13\n",
      "7\n",
      "30\n",
      "3.3333333333333335\n",
      "1000\n",
      "1\n",
      "3\n"
     ]
    }
   ],
   "source": [
    "x = 10\n",
    "y = 3\n",
    "print(x + y)\n",
    "print(x - y)\n",
    "print(x * y)\n",
    "print(x / y)\n",
    "print(x ** y)\n",
    "print(x % y)\n",
    "print(x // y)"
   ]
  },
  {
   "cell_type": "code",
   "execution_count": 38,
   "metadata": {},
   "outputs": [
    {
     "name": "stdout",
     "output_type": "stream",
     "text": [
      "False\n"
     ]
    }
   ],
   "source": [
    "# [2.1, ['Lucia', 0, 'Hugo', 2, 'Matheo'], 'Paul']\n",
    "# Comparison example\n",
    "print(len(my_list[-1]) < my_list[1][3])\n",
    "# This checks if 4 is smaller than 2"
   ]
  },
  {
   "cell_type": "code",
   "execution_count": 39,
   "metadata": {},
   "outputs": [
    {
     "name": "stdout",
     "output_type": "stream",
     "text": [
      "True\n"
     ]
    }
   ],
   "source": [
    "# [2.1, ['Lucia', 0, 'Hugo', 2, 'Matheo'], 'Paul']\n",
    "# This is comparing 2 == 4 - 2\n",
    "print(int(my_list[-3]) == len(my_list[1][2]) - my_list[-2][-2])"
   ]
  },
  {
   "cell_type": "code",
   "execution_count": 40,
   "metadata": {},
   "outputs": [
    {
     "name": "stdout",
     "output_type": "stream",
     "text": [
      "False\n",
      "True\n",
      "True\n"
     ]
    }
   ],
   "source": [
    "print(len(my_list[-1]) < my_list[1][3] and int(my_list[-3]) == len(my_list[1][2]) - my_list[-2][-2])\n",
    "print(len(my_list[-1]) < my_list[1][3] or int(my_list[-3]) == len(my_list[1][2]) - my_list[-2][-2])\n",
    "print(not len(my_list[-1]) < my_list[1][3])"
   ]
  },
  {
   "cell_type": "code",
   "execution_count": 41,
   "metadata": {},
   "outputs": [
    {
     "name": "stdout",
     "output_type": "stream",
     "text": [
      "1\n",
      "2\n"
     ]
    }
   ],
   "source": [
    "x = 1\n",
    "print(x)\n",
    "x = x + 1\n",
    "print(x)"
   ]
  },
  {
   "cell_type": "code",
   "execution_count": 42,
   "metadata": {},
   "outputs": [
    {
     "name": "stdout",
     "output_type": "stream",
     "text": [
      "3\n"
     ]
    }
   ],
   "source": [
    "# x += 1 is equivalent to x = x + 1\n",
    "x += 1\n",
    "print(x)"
   ]
  },
  {
   "cell_type": "code",
   "execution_count": 43,
   "metadata": {},
   "outputs": [
    {
     "name": "stdout",
     "output_type": "stream",
     "text": [
      "6\n"
     ]
    }
   ],
   "source": [
    "x *= 2\n",
    "print(x)"
   ]
  },
  {
   "cell_type": "code",
   "execution_count": 44,
   "metadata": {},
   "outputs": [
    {
     "name": "stdout",
     "output_type": "stream",
     "text": [
      "5\n"
     ]
    }
   ],
   "source": [
    "# How to decrement the value of x?\n",
    "x -= 1\n",
    "print(x)"
   ]
  },
  {
   "cell_type": "code",
   "execution_count": 48,
   "metadata": {},
   "outputs": [
    {
     "name": "stdout",
     "output_type": "stream",
     "text": [
      "x is smaller than 5\n"
     ]
    }
   ],
   "source": [
    "# A small if/else example\n",
    "x = 2\n",
    "\n",
    "if (x > 5):\n",
    "    print(\"x is larger than 5\")\n",
    "    # we can have a bunch of lines here\n",
    "    # if the condition is correct, elif and else statements are \n",
    "    # not evaluated\n",
    "elif (x == 5):\n",
    "    (print(\"x is equal to 5\"))\n",
    "    # ...\n",
    "    # ...\n",
    "else:\n",
    "    print(\"x is smaller than 5\")\n",
    "    # ..\n",
    "    # .."
   ]
  },
  {
   "cell_type": "code",
   "execution_count": 67,
   "metadata": {},
   "outputs": [
    {
     "ename": "SyntaxError",
     "evalue": "invalid syntax (<ipython-input-67-f41d009ee20c>, line 6)",
     "output_type": "error",
     "traceback": [
      "\u001b[1;36m  File \u001b[1;32m\"<ipython-input-67-f41d009ee20c>\"\u001b[1;36m, line \u001b[1;32m6\u001b[0m\n\u001b[1;33m    else:\u001b[0m\n\u001b[1;37m       ^\u001b[0m\n\u001b[1;31mSyntaxError\u001b[0m\u001b[1;31m:\u001b[0m invalid syntax\n"
     ]
    }
   ],
   "source": [
    "# A small if/else example\n",
    "# elif and else statements always need to be\n",
    "# preceded by an if statement\n",
    "# they cannot exist on their\n",
    "x = 2\n",
    "\n",
    "\n",
    "\n",
    "else:\n",
    "    print(\"x is smaller than 5\")\n",
    "    # ..\n",
    "    # .."
   ]
  },
  {
   "cell_type": "code",
   "execution_count": 52,
   "metadata": {},
   "outputs": [],
   "source": [
    "# In the case of if statements without an else statement\n",
    "# if none of the if/elif statements are correct\n",
    "# nothing happens in the programs\n",
    "\n",
    "x = 10\n",
    "\n",
    "if (x < 5):\n",
    "    print(\"x is smaller than 5\")\n",
    "    # we can have a bunch of lines here\n",
    "    # if the condition is correct, elif and else statements are \n",
    "    # not evaluated\n",
    "elif(x < 9):\n",
    "    print(\"x is smaller than 9\")"
   ]
  },
  {
   "cell_type": "code",
   "execution_count": 56,
   "metadata": {},
   "outputs": [
    {
     "name": "stdout",
     "output_type": "stream",
     "text": [
      "x is smaller than 5\n"
     ]
    }
   ],
   "source": [
    "# In the case of if statements without an else statement\n",
    "# if none of the if/elif statements are correct\n",
    "# nothing happens in the programs\n",
    "\n",
    "x = 4\n",
    "\n",
    "if (x < 5):\n",
    "    print(\"x is smaller than 5\")\n",
    "    # we can have a bunch of lines here\n",
    "    # if the condition is correct, elif and else statements are \n",
    "    # not evaluated\n",
    "elif(x < 9):\n",
    "    print(\"x is larger than 5 and is smaller than 9\")\n",
    "    \n",
    "# when the if statement is correct, the entire block will \n",
    "# be terminated after the print(\"x is smaller than 5\") statement"
   ]
  },
  {
   "cell_type": "code",
   "execution_count": null,
   "metadata": {},
   "outputs": [],
   "source": [
    "# Write a small program that will take in two names using the input(function)\n",
    "# and compare how many characters there are in each one\n",
    "# Generate an output so that it would look like this:\n",
    "# User inputs:\n",
    "# Lucia\n",
    "# Paul\n",
    "# The name Lucia is longer than the name Paul\n",
    "\n",
    "name1 = input(\"Enter the first name: \")\n",
    "name2 = input(\"Enter the second name: \")\n",
    "\n",
    "if (len(name1)>len(name2)):\n",
    "    print(\"The name\", name1, \"is longer than the name\", name2)\n",
    "    # No syntax error, but a run time error if the name has\n",
    "    # less than 11 characters\n",
    "    # print(name1[10])\n",
    "elif (len(name1) == len(name2)):\n",
    "    print(\"The name\", name1, \"has the equal length as the name\", name2)\n",
    "else:\n",
    "    print(\"The name\", name2, \"is longer than the name\", name1)"
   ]
  },
  {
   "cell_type": "code",
   "execution_count": 62,
   "metadata": {},
   "outputs": [
    {
     "name": "stdout",
     "output_type": "stream",
     "text": [
      "First name is fseff\n",
      "Second name is ew\n",
      "fseff  is longer than  ew\n"
     ]
    }
   ],
   "source": [
    "# Matheo's code fixed\n",
    "\n",
    "first = input(\"First name is \")\n",
    "second = input(\"Second name is \")\n",
    "\n",
    "if len(first) > len(second):\n",
    "    print(first, \" is longer than \", second)\n",
    "elif len(first) < len(second):\n",
    "    print(second, \" is longer than \", first)\n",
    "else:\n",
    "    print(\"Names have same length\")"
   ]
  },
  {
   "cell_type": "code",
   "execution_count": null,
   "metadata": {},
   "outputs": [],
   "source": [
    "# elif statement always needs an if statement first\n",
    "'''\n",
    "name1 = input(\"Enter the first name: \")\n",
    "name2 = input(\"Enter the second name: \")\n",
    "\n",
    "elif (len(name1) == len(name2)):\n",
    "    print(\"The name\", name1, \"has the equal length as the name\", name2)\n",
    "else:\n",
    "    print(\"The name\", name2, \"is longer than the name\", name1)\n",
    "'''"
   ]
  },
  {
   "cell_type": "code",
   "execution_count": 72,
   "metadata": {},
   "outputs": [
    {
     "name": "stdout",
     "output_type": "stream",
     "text": [
      "Enter total points: 99\n",
      "A\n"
     ]
    }
   ],
   "source": [
    "# Write a program that will ask for total points of a student\n",
    "# to generate his/her letter grade\n",
    "# 90-100 -> A\n",
    "# 80-89  -> B\n",
    "# 70-79  -> C\n",
    "# 60-69  -> D\n",
    "# 50-59  -> E\n",
    "# 0 - 49 -> F\n",
    "\n",
    "# Preferably use the input() function\n",
    "\n",
    "points = int(input(\"Enter total points: \"))\n",
    "\n",
    "if (points >= 90):\n",
    "    print(\"A\")\n",
    "elif (points >= 80 and points < 90):\n",
    "    print(\"B\")\n",
    "elif (points >= 70 and points < 80):\n",
    "    print(\"C\")\n",
    "elif (points >= 60 and points < 70):\n",
    "    print(\"D\")\n",
    "elif (points >= 50 and points < 60):\n",
    "    print(\"E\")\n",
    "else:\n",
    "    print(\"F\")"
   ]
  },
  {
   "cell_type": "code",
   "execution_count": 78,
   "metadata": {},
   "outputs": [
    {
     "name": "stdout",
     "output_type": "stream",
     "text": [
      "Enter total points: -50\n",
      "F\n"
     ]
    }
   ],
   "source": [
    "# no point in using points < 90\n",
    "\n",
    "points = int(input(\"Enter total points: \"))\n",
    "\n",
    "if (points >= 90):\n",
    "    print(\"A\")\n",
    "elif (points >= 80):\n",
    "    print(\"B\")\n",
    "elif (points >= 70):\n",
    "    print(\"C\")\n",
    "elif (points >= 60):\n",
    "    print(\"D\")\n",
    "elif (points >= 50):\n",
    "    print(\"E\")\n",
    "else:\n",
    "    print(\"F\")"
   ]
  },
  {
   "cell_type": "code",
   "execution_count": 82,
   "metadata": {},
   "outputs": [
    {
     "name": "stdout",
     "output_type": "stream",
     "text": [
      "Enter total points: 800\n",
      "You entered an invalid number!!\n"
     ]
    }
   ],
   "source": [
    "# Try to account for numbers outside 0-100\n",
    "# using a nested conditional\n",
    "\n",
    "points = int(input(\"Enter total points: \"))\n",
    "\n",
    "if (points >= 0 and points <=100):\n",
    "    if (points >= 90):\n",
    "        print(\"A\")\n",
    "    elif (points >= 80):\n",
    "        print(\"B\")\n",
    "    elif (points >= 70):\n",
    "        print(\"C\")\n",
    "    elif (points >= 60):\n",
    "        print(\"D\")\n",
    "    elif (points >= 50):\n",
    "        print(\"E\")\n",
    "    else:\n",
    "        print(\"F\")\n",
    "else:\n",
    "    print(\"You entered an invalid number!!\")"
   ]
  },
  {
   "cell_type": "code",
   "execution_count": 84,
   "metadata": {},
   "outputs": [
    {
     "name": "stdout",
     "output_type": "stream",
     "text": [
      "[2.1, ['Lucia', 0, 'Hugo', 2, 'Matheo'], 'Paul']\n"
     ]
    }
   ],
   "source": [
    "print(my_list)"
   ]
  },
  {
   "cell_type": "code",
   "execution_count": 85,
   "metadata": {},
   "outputs": [
    {
     "name": "stdout",
     "output_type": "stream",
     "text": [
      "2.1\n",
      "['Lucia', 0, 'Hugo', 2, 'Matheo']\n",
      "Paul\n"
     ]
    }
   ],
   "source": [
    "for list_item in my_list:\n",
    "    print(list_item)"
   ]
  },
  {
   "cell_type": "code",
   "execution_count": 91,
   "metadata": {},
   "outputs": [
    {
     "name": "stdout",
     "output_type": "stream",
     "text": [
      "['kiwi', 'banana', 'pear']\n",
      "kiwi has 4 characters\n",
      "banana has 6 characters\n",
      "pear has 4 characters\n"
     ]
    }
   ],
   "source": [
    "print(fruits)\n",
    "for fruit in fruits:\n",
    "    print(fruit, \"has\", len(fruit), \"characters\")"
   ]
  },
  {
   "cell_type": "code",
   "execution_count": 87,
   "metadata": {},
   "outputs": [
    {
     "name": "stdout",
     "output_type": "stream",
     "text": [
      "i\n",
      "a\n",
      "r\n"
     ]
    }
   ],
   "source": [
    "\n",
    "for fruit in fruits:\n",
    "    print(fruit[-1])"
   ]
  },
  {
   "cell_type": "code",
   "execution_count": null,
   "metadata": {},
   "outputs": [],
   "source": [
    "# How to use the range function\n",
    "\n",
    "for x in range(0,10):\n",
    "    print(x)"
   ]
  },
  {
   "cell_type": "code",
   "execution_count": null,
   "metadata": {},
   "outputs": [],
   "source": [
    "# How to use the range function\n",
    "\n",
    "for x in range(0,10,2):\n",
    "    print(x)"
   ]
  },
  {
   "cell_type": "code",
   "execution_count": 95,
   "metadata": {},
   "outputs": [
    {
     "name": "stdout",
     "output_type": "stream",
     "text": [
      "2 is an even number\n",
      "1 is an odd number\n",
      "6 is an even number\n",
      "7 is an odd number\n",
      "14 is an even number\n",
      "3 is an odd number\n",
      "4 is an even number\n"
     ]
    }
   ],
   "source": [
    "# Create the following list\n",
    "\n",
    "my_list = [2, 1, 6, 7, 14, 3, 4]\n",
    "# Write a program that will loop through all the elements\n",
    "# and will tell if the element of the list is an even or odd number\n",
    "# it will tell\n",
    "# 2 is an even number\n",
    "# 1 is an odd number\n",
    "# ...\n",
    "\n",
    "for item in my_list:\n",
    "    if (item%2 == 0):\n",
    "        print(item, \"is an even number\")\n",
    "    else:\n",
    "        print(item, \"is an odd number\")"
   ]
  },
  {
   "cell_type": "code",
   "execution_count": 103,
   "metadata": {},
   "outputs": [
    {
     "name": "stdout",
     "output_type": "stream",
     "text": [
      "There are 4 even numbers with a total of 26\n",
      "There are 3 even numbers with a total of 11\n"
     ]
    },
    {
     "data": {
      "text/plain": [
       "True"
      ]
     },
     "execution_count": 103,
     "metadata": {},
     "output_type": "execute_result"
    }
   ],
   "source": [
    "# Report how many even / odd numbers there are, and their totals\n",
    "# There are 4 even numbers with a total of 26\n",
    "# There are 3 odd numbers with a total of 11\n",
    "\n",
    "even_count = 0\n",
    "even_sum = 0\n",
    "\n",
    "odd_count = 0\n",
    "odd_sum = 0\n",
    "\n",
    "for item in my_list:\n",
    "    if (item%2 == 0):\n",
    "        even_count += 1\n",
    "        even_sum += item\n",
    "    else:\n",
    "        odd_count += 1\n",
    "        odd_sum += item\n",
    "print(\"There are\", even_count, \"even numbers with a total of\", even_sum)\n",
    "print(\"There are\", odd_count, \"even numbers with a total of\", odd_sum)\n",
    "\n",
    "type(my_list[0]) == int"
   ]
  },
  {
   "cell_type": "code",
   "execution_count": 107,
   "metadata": {},
   "outputs": [
    {
     "name": "stdout",
     "output_type": "stream",
     "text": [
      "Dimitry pwd1\n",
      "Romane pwd2\n",
      "Germath pwd3\n"
     ]
    }
   ],
   "source": [
    "user_pwd_list = [[\"Dimitry\", \"pwd1\"], [\"Romane\", \"pwd2\"], [\"Germath\", \"pwd3\"]]\n",
    "\n",
    "# Write a program that will ask for a user name and a password\n",
    "# First check if the username exists, if so, check if the password is\n",
    "# correct or not. Print appropriate responses\n",
    "\n",
    "for user_pwd in user_pwd_list:\n",
    "    print(user_pwd[0], user_pwd[1])"
   ]
  },
  {
   "cell_type": "markdown",
   "metadata": {},
   "source": [
    "# The Afternoon part of the class"
   ]
  },
  {
   "cell_type": "code",
   "execution_count": 2,
   "metadata": {},
   "outputs": [
    {
     "name": "stdout",
     "output_type": "stream",
     "text": [
      "Enter the user name: Naci\n",
      "Enter the user password: pwd\n",
      "Incorrect login information2\n"
     ]
    }
   ],
   "source": [
    "user_pwd_list = [[\"Dimitry\", \"pwd1\"], [\"Romane\", \"pwd2\"], [\"Germath\", \"pwd3\"]]\n",
    "\n",
    "name = input(\"Enter the user name: \")\n",
    "pwd = input(\"Enter the user password: \")\n",
    "\n",
    "user_found = False\n",
    "\n",
    "for user_pwd in user_pwd_list:\n",
    "    if (user_pwd[0] == name):\n",
    "        user_found = True\n",
    "        # print(\"User name exists in db\")\n",
    "        \n",
    "        if (user_pwd[1] == pwd):\n",
    "            print(\"Successful login\")\n",
    "        else:\n",
    "            print(\"Incorrect login information\")\n",
    "        break\n",
    "\n",
    "if user_found == False:\n",
    "    print(\"Incorrect login information\")"
   ]
  },
  {
   "cell_type": "code",
   "execution_count": 5,
   "metadata": {},
   "outputs": [
    {
     "name": "stdout",
     "output_type": "stream",
     "text": [
      "Enter the user name: kjbkebvw\n",
      "Enter the user password: cqwkjb\n",
      "Wrong username\n"
     ]
    }
   ],
   "source": [
    "# Matheo's solution\n",
    "\n",
    "name = input(\"Enter the user name: \")\n",
    "pwd = input(\"Enter the user password: \")\n",
    "\n",
    "counter = 1\n",
    "\n",
    "for user_pwd in user_pwd_list:\n",
    "    if (user_pwd[0] == name):\n",
    "        if (user_pwd[1] == pwd):\n",
    "            print(\"Successful connection\")\n",
    "        else:\n",
    "            print(\"Incorrect password\")\n",
    "    elif(counter == len(user_pwd_list)):\n",
    "        print(\"Wrong username\")\n",
    "    else:\n",
    "        counter += 1"
   ]
  },
  {
   "cell_type": "code",
   "execution_count": 7,
   "metadata": {},
   "outputs": [],
   "source": [
    "names = [\"Lisa\", \"Paul\", \"Dimitry\"]\n",
    "\n",
    "# Write a program that will produce the following output\n",
    "# Lisa\n",
    "# i\n",
    "# s\n",
    "# a\n",
    "# Paul\n",
    "# a\n",
    "# u\n",
    "# l\n",
    "# Dimitry\n",
    "# i\n",
    "# m\n",
    "# i\n",
    "# t\n",
    "# r\n",
    "# y"
   ]
  },
  {
   "cell_type": "code",
   "execution_count": 11,
   "metadata": {},
   "outputs": [
    {
     "name": "stdout",
     "output_type": "stream",
     "text": [
      "Lisa\n",
      "i\n",
      "s\n",
      "a\n",
      "Paul\n",
      "a\n",
      "u\n",
      "l\n",
      "Dimitry\n",
      "i\n",
      "m\n",
      "i\n",
      "t\n",
      "r\n",
      "y\n"
     ]
    }
   ],
   "source": [
    "for name in names:\n",
    "    print(name)\n",
    "    for index in range(1, len(name)):\n",
    "        print(name[index])"
   ]
  },
  {
   "cell_type": "code",
   "execution_count": 14,
   "metadata": {},
   "outputs": [
    {
     "name": "stdout",
     "output_type": "stream",
     "text": [
      "Lisa\n",
      "i\n",
      "s\n",
      "a\n",
      "Paul\n",
      "a\n",
      "u\n",
      "l\n",
      "Dimitry\n",
      "i\n",
      "m\n",
      "i\n",
      "t\n",
      "r\n",
      "y\n"
     ]
    }
   ],
   "source": [
    "# another solution\n",
    "\n",
    "for name in names:\n",
    "    print(name)\n",
    "    for char in name[1:]:\n",
    "        print(char)"
   ]
  },
  {
   "cell_type": "code",
   "execution_count": 37,
   "metadata": {},
   "outputs": [
    {
     "name": "stdout",
     "output_type": "stream",
     "text": [
      "Lisa\n",
      "i\n",
      "s\n",
      "a\n",
      "Paul\n",
      "a\n",
      "u\n",
      "l\n",
      "Dimitry\n",
      "i\n",
      "m\n",
      "i\n",
      "t\n",
      "r\n",
      "y\n"
     ]
    }
   ],
   "source": [
    "# Dmitry's code\n",
    "    \n",
    "names = [\"Lisa\", \"Paul\", \"Dimitry\"]\n",
    "    \n",
    "for w in names:\n",
    "    leng=len(w)\n",
    "    print(w)\n",
    "    for n in range(1, leng):\n",
    "        print(w[n])\n",
    "        \"\\n\""
   ]
  },
  {
   "cell_type": "code",
   "execution_count": 16,
   "metadata": {},
   "outputs": [
    {
     "name": "stdout",
     "output_type": "stream",
     "text": [
      "Found i in the name Lisa\n",
      "Found i in the name Dimitry\n"
     ]
    }
   ],
   "source": [
    "# Searching for list items or individual characters\n",
    "\n",
    "search_char = \"i\"\n",
    "\n",
    "for name in names:\n",
    "    if search_char in name:\n",
    "        print(\"Found\", search_char, \"in the name\", name)"
   ]
  },
  {
   "cell_type": "code",
   "execution_count": 23,
   "metadata": {},
   "outputs": [],
   "source": [
    "# Use of funtions\n",
    "\n",
    "def hello():\n",
    "    print(\"Hello, welcome to the class\")"
   ]
  },
  {
   "cell_type": "code",
   "execution_count": 24,
   "metadata": {},
   "outputs": [
    {
     "name": "stdout",
     "output_type": "stream",
     "text": [
      "Hello, welcome to the class\n"
     ]
    }
   ],
   "source": [
    "hello()"
   ]
  },
  {
   "cell_type": "code",
   "execution_count": 26,
   "metadata": {},
   "outputs": [],
   "source": [
    "# Use of funtions with a parameter\n",
    "\n",
    "def hello2(fname):\n",
    "    print(\"Hello, welcome to the class\", fname)"
   ]
  },
  {
   "cell_type": "code",
   "execution_count": 27,
   "metadata": {},
   "outputs": [
    {
     "name": "stdout",
     "output_type": "stream",
     "text": [
      "Hello, welcome to the class Paul\n"
     ]
    }
   ],
   "source": [
    "hello2(\"Paul\")"
   ]
  },
  {
   "cell_type": "code",
   "execution_count": 28,
   "metadata": {},
   "outputs": [],
   "source": [
    "# Use of functions with multiple parameters\n",
    "\n",
    "def hello3(fname, lname):\n",
    "    print(\"First name:\\t\", fname, \"\\nLast name:\\t\", lname)"
   ]
  },
  {
   "cell_type": "code",
   "execution_count": 32,
   "metadata": {},
   "outputs": [
    {
     "name": "stdout",
     "output_type": "stream",
     "text": [
      "First name:\t Hugo \n",
      "Last name:\t Chevalier\n"
     ]
    }
   ],
   "source": [
    "hello3(\"Hugo\", \"Chevalier\")"
   ]
  },
  {
   "cell_type": "code",
   "execution_count": 30,
   "metadata": {},
   "outputs": [
    {
     "name": "stdout",
     "output_type": "stream",
     "text": [
      "First name:\t Matheo \n",
      "Last name:\t Pires\n"
     ]
    }
   ],
   "source": [
    "hello3(\"Matheo\", \"Pires\")"
   ]
  },
  {
   "cell_type": "code",
   "execution_count": 35,
   "metadata": {},
   "outputs": [],
   "source": [
    "# Use of functions with multiple parameters\n",
    "\n",
    "def hello4(fname, lname, age):\n",
    "    print(\"First name:\\t\", fname, \"\\nLast name:\\t\", lname, \"\\nAge:\\t\\t\", age)"
   ]
  },
  {
   "cell_type": "code",
   "execution_count": 36,
   "metadata": {},
   "outputs": [
    {
     "name": "stdout",
     "output_type": "stream",
     "text": [
      "First name:\t Jack \n",
      "Last name:\t Swimmer \n",
      "Age:\t\t 20\n"
     ]
    }
   ],
   "source": [
    "hello4(\"Jack\", \"Swimmer\", 20)"
   ]
  },
  {
   "cell_type": "code",
   "execution_count": 42,
   "metadata": {},
   "outputs": [
    {
     "name": "stdout",
     "output_type": "stream",
     "text": [
      "First name:\t Mark \n",
      "Last name:\t Swan \n",
      "Age:\t\t 25\n"
     ]
    }
   ],
   "source": [
    "hello4(\"Mark\", \"Swan\", 25)"
   ]
  },
  {
   "cell_type": "code",
   "execution_count": 38,
   "metadata": {},
   "outputs": [
    {
     "name": "stdout",
     "output_type": "stream",
     "text": [
      "Lisa\n",
      "Paul\n",
      "Dimitry\n"
     ]
    }
   ],
   "source": [
    "# Use of functions with list(s) as parameters\n",
    "\n",
    "def hello5(my_list):\n",
    "    for item in my_list:\n",
    "        print(item)\n",
    "        \n",
    "hello5(names)"
   ]
  },
  {
   "cell_type": "code",
   "execution_count": 39,
   "metadata": {},
   "outputs": [],
   "source": [
    "def multi_5(x):\n",
    "    return 5 * x"
   ]
  },
  {
   "cell_type": "code",
   "execution_count": 40,
   "metadata": {},
   "outputs": [
    {
     "name": "stdout",
     "output_type": "stream",
     "text": [
      "60\n"
     ]
    }
   ],
   "source": [
    "print(multi_5(12))"
   ]
  },
  {
   "cell_type": "code",
   "execution_count": 41,
   "metadata": {},
   "outputs": [
    {
     "name": "stdout",
     "output_type": "stream",
     "text": [
      "65\n"
     ]
    }
   ],
   "source": [
    "y = multi_5(13)\n",
    "print(y)"
   ]
  },
  {
   "cell_type": "code",
   "execution_count": 43,
   "metadata": {},
   "outputs": [],
   "source": [
    "# Write a function that will take in a list, and\n",
    "# return another list containing all the even numbers\n",
    "\n",
    "my_list = [7, 4, 78, 12, 3, 5, 7, 80]\n",
    "\n",
    "# it should return [4, 78, 12, 80]\n",
    "\n",
    "def get_even_numbers(a_list):\n",
    "    even_numbers = []\n",
    "    for item in a_list:\n",
    "        if item%2 == 0:\n",
    "            even_numbers.append(item)\n",
    "    \n",
    "    return even_numbers\n"
   ]
  },
  {
   "cell_type": "code",
   "execution_count": 44,
   "metadata": {},
   "outputs": [
    {
     "name": "stdout",
     "output_type": "stream",
     "text": [
      "[4, 78, 12, 80]\n"
     ]
    }
   ],
   "source": [
    "print(get_even_numbers(my_list))"
   ]
  },
  {
   "cell_type": "code",
   "execution_count": 48,
   "metadata": {},
   "outputs": [
    {
     "name": "stdout",
     "output_type": "stream",
     "text": [
      "[4, 78, 12, 80]\n",
      "[4, 78, 12, 80, 4, 78, 12, 80]\n"
     ]
    }
   ],
   "source": [
    "# Incorrect / subptimal implementation\n",
    "# Avoid accessing outside variables within a function\n",
    "\n",
    "even_numbers = []\n",
    "\n",
    "def get_even_numbers2(a_list):\n",
    "\n",
    "    for item in a_list:\n",
    "        if item%2 == 0:\n",
    "            even_numbers.append(item)\n",
    "    \n",
    "    return even_numbers\n",
    "\n",
    "print(get_even_numbers2(my_list))\n",
    "print(get_even_numbers2(my_list))"
   ]
  },
  {
   "cell_type": "code",
   "execution_count": null,
   "metadata": {},
   "outputs": [],
   "source": [
    "# Write a function that will ask the user how many numbers\n",
    "# they would like to enter\n",
    "# Get the numbers, and then return the numbers that are\n",
    "# divisible by 3\n",
    "\n",
    "# How many numbers you would like to enter?\n",
    "# 3\n",
    "# Enter number 1: 12\n",
    "# Enter number 2: 5\n",
    "# Enter number 3: 9\n",
    "# Should return [12, 9]"
   ]
  },
  {
   "cell_type": "code",
   "execution_count": 3,
   "metadata": {},
   "outputs": [],
   "source": [
    "def divisible_by_3():\n",
    "    n = int(input(\"How many numbers to enter? \"))\n",
    "    myList = []\n",
    "    for index in range(n):\n",
    "        number = int(input(\"Enter number \" + str(index+1) + \": \"))\n",
    "        if number % 3 == 0:\n",
    "            myList.append(number)\n",
    "    return myList"
   ]
  },
  {
   "cell_type": "code",
   "execution_count": 4,
   "metadata": {},
   "outputs": [
    {
     "name": "stdout",
     "output_type": "stream",
     "text": [
      "How many numbers to enter? 4\n",
      "Enter number 1: 14\n",
      "Enter number 2: 5\n",
      "Enter number 3: 6\n",
      "Enter number 4: 12\n"
     ]
    },
    {
     "data": {
      "text/plain": [
       "[6, 12]"
      ]
     },
     "execution_count": 4,
     "metadata": {},
     "output_type": "execute_result"
    }
   ],
   "source": [
    "divisible_by_3()"
   ]
  },
  {
   "cell_type": "code",
   "execution_count": 15,
   "metadata": {},
   "outputs": [],
   "source": [
    "# Write so function to take in a list and a number \n",
    "# and check if the value is contained in that list\n",
    "\n",
    "# [4, 78, 12, 80], 12 -> True\n",
    "# [4, 78, 12, 80], 13 -> False\n",
    "\n",
    "def check_no_in_list(alist, number):\n",
    "    found = False\n",
    "    for item in alist:\n",
    "        if item == number:\n",
    "            found = True\n",
    "            print(str(number), \"is in the list\")\n",
    "    if (found == False):\n",
    "        print(number, \"is not in the list\")\n"
   ]
  },
  {
   "cell_type": "code",
   "execution_count": 13,
   "metadata": {},
   "outputs": [
    {
     "data": {
      "text/plain": [
       "True"
      ]
     },
     "execution_count": 13,
     "metadata": {},
     "output_type": "execute_result"
    }
   ],
   "source": [
    "# with return option\n",
    "\n",
    "def check_no_in_list2(alist, number):\n",
    "    for item in alist:\n",
    "        if item == number:\n",
    "            return True\n",
    "    return False"
   ]
  },
  {
   "cell_type": "code",
   "execution_count": 19,
   "metadata": {},
   "outputs": [],
   "source": [
    "def check_no_in_list3(alist, number):\n",
    "    found = False\n",
    "    \n",
    "    if number in alist:\n",
    "            found = True\n",
    "            print(str(number), \"is in the list\")\n",
    "    if (found == False):\n",
    "        print(number, \"is not in the list\")"
   ]
  },
  {
   "cell_type": "code",
   "execution_count": 21,
   "metadata": {},
   "outputs": [
    {
     "name": "stdout",
     "output_type": "stream",
     "text": [
      "80 is in the list\n"
     ]
    }
   ],
   "source": [
    "check_no_in_list3([4, 78, 12, 80], 80)"
   ]
  },
  {
   "cell_type": "code",
   "execution_count": 35,
   "metadata": {},
   "outputs": [
    {
     "data": {
      "text/plain": [
       "True"
      ]
     },
     "execution_count": 35,
     "metadata": {},
     "output_type": "execute_result"
    }
   ],
   "source": [
    "# Write a function to check whether an entered number is a prime number\n",
    "# A prime number is a number only divisible by 1 and by itself\n",
    "# 2, 3, 5, 7, 11, 13\n",
    "\n",
    "# you can return True and return False\n",
    "\n",
    "# check_prime(7) -> True\n",
    "\n",
    "def check_prime(number):\n",
    "    for i in range(2, number):\n",
    "        if number%i == 0:\n",
    "            return False\n",
    "    return True\n",
    "\n",
    "check_prime(13)"
   ]
  },
  {
   "cell_type": "code",
   "execution_count": 36,
   "metadata": {},
   "outputs": [
    {
     "data": {
      "text/plain": [
       "False"
      ]
     },
     "execution_count": 36,
     "metadata": {},
     "output_type": "execute_result"
    }
   ],
   "source": [
    "# Use a print statement and whenever we have the \n",
    "# outcome, stop the function\n",
    "\n",
    "def check_prime2(number):\n",
    "    if (number > 1):\n",
    "        for i in range(2, number):\n",
    "            if number%i == 0:\n",
    "                print(number, \"is not a prime number\")\n",
    "                return\n",
    "        print(number, \"is a prime number\")\n",
    "    else:\n",
    "        print(number, \"is not valid\")\n",
    "\n",
    "check_prime(4)"
   ]
  },
  {
   "cell_type": "code",
   "execution_count": 34,
   "metadata": {},
   "outputs": [
    {
     "name": "stdout",
     "output_type": "stream",
     "text": [
      "The given number is not a prime number\n"
     ]
    }
   ],
   "source": [
    "# Paul's code\n",
    "\n",
    "def Prime_Number(number):\n",
    "    y = 2\n",
    "    check = True\n",
    "    for i in range(y, number-1):\n",
    "        # print(y)\n",
    "        if number%i == 0:\n",
    "            check = False\n",
    "    if check == True:\n",
    "        print(\"The given number is a prime number\")\n",
    "    else:\n",
    "        print(\"The given number is not a prime number\")\n",
    "   \n",
    "Prime_Number(8)"
   ]
  },
  {
   "cell_type": "code",
   "execution_count": null,
   "metadata": {},
   "outputs": [],
   "source": [
    "# Write another function that will utilize the check_prime function\n",
    "# It should take two integer numbers, and return a list containing\n",
    "# all the prime numbers in between those two numbers\n",
    "\n",
    "def check_prime(number):\n",
    "    for i in range(2, number):\n",
    "        if number%i == 0:\n",
    "            return False\n",
    "    return True\n",
    "\n",
    "check_prime(13)\n",
    "\n",
    "# prime_in_range(5, 12) -> [5, 7, 11]\n",
    "\n",
    "def prime_in_range(num1, num2):\n",
    "    prime_numbers = []\n",
    "    for num in range(num1, num2 + 1):\n",
    "        if check_prime(num):\n",
    "            prime_numbers.append(num)\n",
    "    return prime_numbers\n",
    "\n",
    "prime_in_range(5, 11)"
   ]
  },
  {
   "cell_type": "code",
   "execution_count": 44,
   "metadata": {},
   "outputs": [
    {
     "data": {
      "text/plain": [
       "2260"
      ]
     },
     "execution_count": 44,
     "metadata": {},
     "output_type": "execute_result"
    }
   ],
   "source": [
    "def count_prime_in_range(num1, num2):\n",
    "    count = 0\n",
    "    for num in range(num1, num2 + 1):\n",
    "        if check_prime(num):\n",
    "            count += 1\n",
    "    return count\n",
    "\n",
    "count_prime_in_range(5, 40000)"
   ]
  },
  {
   "cell_type": "code",
   "execution_count": 51,
   "metadata": {},
   "outputs": [
    {
     "name": "stdout",
     "output_type": "stream",
     "text": [
      "4.021318197250366\n"
     ]
    }
   ],
   "source": [
    "import time\n",
    "start_time = time.time()\n",
    "# print(start_time)\n",
    "count_prime_in_range(5, 30000)\n",
    "print(time.time() - start_time)"
   ]
  },
  {
   "cell_type": "code",
   "execution_count": 52,
   "metadata": {},
   "outputs": [
    {
     "name": "stdout",
     "output_type": "stream",
     "text": [
      "3.5466220378875732\n"
     ]
    }
   ],
   "source": [
    "def check_prime_opt(number):\n",
    "    for i in range(2, int(number/2)):\n",
    "        if number%i == 0:\n",
    "            return False\n",
    "    return True\n",
    "\n",
    "def count_prime_in_range_opt(num1, num2):\n",
    "    count = 0\n",
    "    for num in range(num1, num2 + 1):\n",
    "        if check_prime_opt(num):\n",
    "            count += 1\n",
    "    return count\n",
    "\n",
    "import time\n",
    "start_time = time.time()\n",
    "# print(start_time)\n",
    "count_prime_in_range(5, 30000)\n",
    "print(time.time() - start_time)"
   ]
  },
  {
   "cell_type": "code",
   "execution_count": null,
   "metadata": {},
   "outputs": [],
   "source": []
  }
 ],
 "metadata": {
  "kernelspec": {
   "display_name": "Python 3",
   "language": "python",
   "name": "python3"
  },
  "language_info": {
   "codemirror_mode": {
    "name": "ipython",
    "version": 3
   },
   "file_extension": ".py",
   "mimetype": "text/x-python",
   "name": "python",
   "nbconvert_exporter": "python",
   "pygments_lexer": "ipython3",
   "version": "3.7.3"
  }
 },
 "nbformat": 4,
 "nbformat_minor": 2
}
