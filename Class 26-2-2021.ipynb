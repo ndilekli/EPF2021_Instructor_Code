{
 "cells": [
  {
   "cell_type": "code",
   "execution_count": null,
   "metadata": {},
   "outputs": [],
   "source": [
    "# We will do the same analysis as on the 24th for selection \n",
    "# of a parcel for a firestation , but use a function\n",
    "# so that users can change parameters as they wish"
   ]
  },
  {
   "cell_type": "code",
   "execution_count": 2,
   "metadata": {},
   "outputs": [],
   "source": [
    "# Please create a function to generate buffers\n",
    "# around schools based on a user specified distance\n",
    "\n",
    "# bufferSchools(\"5 Kilometers\")\n",
    "\n",
    "import arcpy\n",
    "\n",
    "# Let's specify the workspace\n",
    "arcpy.env.workspace = \"C:/EsriTraining/firestation.gdb\"\n",
    "\n",
    "arcpy.Exists(arcpy.env.workspace)\n",
    "\n",
    "\n"
   ]
  },
  {
   "cell_type": "code",
   "execution_count": 3,
   "metadata": {},
   "outputs": [],
   "source": [
    "# For ArcGIS Pro 2.7\n",
    "# How to enable overwriting files\n",
    "arcpy.env.overwriteOutput = True\n",
    "\n",
    "def bufferSchools(distance):\n",
    "    \n",
    "    arcpy.Buffer_analysis(\"School\", \"School_Buffer\", distance)\n",
    "    \n",
    "bufferSchools(\"5 Kilometers\")"
   ]
  },
  {
   "cell_type": "code",
   "execution_count": null,
   "metadata": {},
   "outputs": [],
   "source": [
    "# For ArcGIS Pro 2.5\n",
    "def bufferSchools(distance):\n",
    "    if arcpy.Exists(\"School_Buffer\"):\n",
    "        arcpy.Delete_management(\"School_Buffer\")\n",
    "    arcpy.Buffer_analysis(\"School\", \"School_Buffer\", distance)\n",
    "    \n",
    "bufferSchools(\"5 Kilometers\")"
   ]
  },
  {
   "cell_type": "code",
   "execution_count": 4,
   "metadata": {},
   "outputs": [],
   "source": [
    "# Please create a function to generate buffers\n",
    "# around the layer specified by the user\n",
    "# and based on user specified distance\n",
    "\n",
    "# bufferFeatures(\"Existing_fire_station\", \"3 Kilometers\")\n",
    "\n",
    "def bufferFeatures(fc, distance):\n",
    "    fc_out = fc + \"_Buffer\"\n",
    "    arcpy.Buffer_analysis(fc, fc_out, distance)    \n",
    "\n",
    "bufferFeatures(\"Existing_fire_station\", \"3.5 Kilometers\")"
   ]
  },
  {
   "cell_type": "code",
   "execution_count": null,
   "metadata": {},
   "outputs": [],
   "source": [
    "# For ArcGIS 2.5\n",
    "\n",
    "def bufferFeatures(fc, distance):\n",
    "    fc_out = fc + \"_Buffer\"\n",
    "    if arcpy.Exists(fc_out):\n",
    "        arcpy.Delete_management(fc_out)\n",
    "    arcpy.Buffer_analysis(fc, fc_out, distance)    \n",
    "\n",
    "bufferFeatures(\"Existing_fire_station\", \"3.5 Kilometers\")"
   ]
  },
  {
   "cell_type": "code",
   "execution_count": 6,
   "metadata": {},
   "outputs": [
    {
     "name": "stdout",
     "output_type": "stream",
     "text": [
      "Existing_fire_station\n"
     ]
    }
   ],
   "source": [
    "# If we have a layer named Existing_fire_station_Buffer,\n",
    "# how do we learn from which layer it came from\n",
    "\n",
    "my_string = \"Existing_fire_station_Buffer\"\n",
    "original_fc = my_string[:len(my_string)-7]\n",
    "\n",
    "print(original_fc)"
   ]
  },
  {
   "cell_type": "code",
   "execution_count": 7,
   "metadata": {},
   "outputs": [
    {
     "name": "stdout",
     "output_type": "stream",
     "text": [
      "Environmentally_sensitive_area\n",
      "School\n",
      "Existing_fire_station\n",
      "Sites1\n",
      "Firestation_Buffer\n",
      "Criteria_Union\n",
      "Criteria_Dissolve\n",
      "First_Step\n",
      "Final_Result\n",
      "fc1_buffer\n",
      "fc2_buffer\n",
      "fc3_buffer\n",
      "Criteria1_Union\n",
      "Criteria1_Dissolve\n",
      "Criteria_1\n",
      "Criteria_2\n",
      "Final_Output\n",
      "Existing_fire_station_Buffer\n",
      "Environmentally_sensitive_area_Buffer\n",
      "School_Buffer\n"
     ]
    }
   ],
   "source": [
    "feature_classes = arcpy.ListFeatureClasses()\n",
    "# print(feature_classes)\n",
    "\n",
    "# Feature class and layers are interchangable terms in our class\n",
    "for fc in feature_classes:\n",
    "    print(fc)"
   ]
  },
  {
   "cell_type": "code",
   "execution_count": null,
   "metadata": {},
   "outputs": [],
   "source": [
    "# Create the function for the entire workflow\n",
    "# For example:\n",
    "'''\n",
    "batchFirestationParcelSearch(\"C:/EsriTraining/firestation.gdb\", \"Sites1\",\n",
    "                             \"Environmentally_sensitive_area\", \"1.5 Kilometers\",\n",
    "                             \"School\", \"2.3 Kilometers\",\n",
    "                             \"Existing_fire_station\", \"2.5 Kilometers\",\n",
    "                            10000, \"Slope\", \"MEAN < 8\", \"Final_Output\")\n",
    "'''"
   ]
  },
  {
   "cell_type": "code",
   "execution_count": 1,
   "metadata": {},
   "outputs": [],
   "source": [
    "def batchFirestationParcelSearch(workspace, input_fc, fc1, b_dist1, fc2, b_dist2, fc3, b_dist3,\n",
    "                                parcel_size, raster_lyr, raster_criterion, out_fc):\n",
    "    # Import the main library\n",
    "    import arcpy\n",
    "    \n",
    "    # Let's specify the workspace\n",
    "    arcpy.env.workspace = workspace\n",
    "    \n",
    "    # Make sure you can overwrite layers\n",
    "    arcpy.env.overwriteOutput = True\n",
    "    \n",
    "    # ANALYSES FOR THE FIRST CRITERIA\n",
    "    \n",
    "    # Buffer for Environmentally_sensitive_areas, \n",
    "    # Schools and Existing Fire Stations    \n",
    "    arcpy.Buffer_analysis(fc1, fc1 + \"_Buffer\", b_dist1)\n",
    "    arcpy.Buffer_analysis(fc2, fc2 + \"_Buffer\", b_dist2)\n",
    "    arcpy.Buffer_analysis(fc3, fc3 + \"_Buffer\", b_dist3)\n",
    "    \n",
    "    # Let's do the union analysis\n",
    "    arcpy.Union_analysis([fc1 + \"_Buffer\", fc2 + \"_Buffer\", fc3 + \"_Buffer\"], \n",
    "                         \"FirstCriteria_Union\")\n",
    "    \n",
    "    # Dissolve all union features\n",
    "    arcpy.Dissolve_management(\"FirstCriteria_Union\", \"FirstCriteria_Dissolve\")\n",
    "    \n",
    "    # Conduct erase analysis\n",
    "    arcpy.Erase_analysis(input_fc, \"FirstCriteria_Dissolve\", \"First_Step\")\n",
    "    \n",
    "    # SECOND CRITERIA\n",
    "    \n",
    "    # First add area in sq meters\n",
    "    arcpy.AddField_management(\"First_Step\",\"area_sq_meters\",\"Double\")\n",
    "    expression1 = \"{0}\".format(\"!SHAPE.area@SQUAREMETERS!\")       \n",
    "    arcpy.CalculateField_management(\"First_Step\", \"area_sq_meters\",\n",
    "                                    expression1, \"PYTHON\", )\n",
    "    \n",
    "    # Zonal Statistics as Table\n",
    "\n",
    "    # arcpy.gp.ZonalStatisticsAsTable for 2.5\n",
    "    # arcpy.sa.ZonalStatisticsAsTable for 2.7\n",
    "    arcpy.sa.ZonalStatisticsAsTable(\"First_Step\", \"OBJECTID\", raster_lyr, raster_lyr + \"_Statistics\",\n",
    "                                   \"NODATA\", \"MEAN\")\n",
    "    # Join the zonal statistics to the First_Step feature class\n",
    "    arcpy.JoinField_management(\"First_Step\", \"OBJECTID\", raster_lyr + \"_Statistics\", \"OBJECTID_1\")\n",
    "    \n",
    "    # Let's create a feature layer for selection\n",
    "    arcpy.MakeFeatureLayer_management(\"First_Step\", \"Final_Selection_Lyr\")\n",
    "    \n",
    "    # Define and conduct a query\n",
    "    query = \"area_sq_meters >\" + str(parcel_size) + \" and OWNER = 'CITY' and \" + raster_criterion\n",
    "    \n",
    "    arcpy.SelectLayerByAttribute_management(\"Final_Selection_Lyr\", \"NEW_SELECTION\", query)\n",
    "    \n",
    "    arcpy.CopyFeatures_management(\"Final_Selection_Lyr\", out_fc)"
   ]
  },
  {
   "cell_type": "code",
   "execution_count": 2,
   "metadata": {},
   "outputs": [],
   "source": [
    "batchFirestationParcelSearch(\"C:/EsriTraining/firestation.gdb\", \"Sites1\",\n",
    "                             \"Environmentally_sensitive_area\", \"1.4 Kilometers\",\n",
    "                             \"School\", \"2.5 Kilometers\",\n",
    "                             \"Existing_fire_station\", \"2 Kilometers\",\n",
    "                            20000, \"Slope\", \"MEAN < 15\", \"Final_Output_Lisa\")"
   ]
  },
  {
   "cell_type": "code",
   "execution_count": 16,
   "metadata": {},
   "outputs": [],
   "source": [
    "# for ArcGIS 2.5\n",
    "\n",
    "def batchFirestationParcelSearchArc2_5(workspace, input_fc, fc1, b_dist1, fc2, b_dist2, fc3, b_dist3,\n",
    "                                parcel_size, raster_lyr, raster_criterion, out_fc):\n",
    "    # Import the main library\n",
    "    import arcpy\n",
    "    \n",
    "    # Let's specify the workspace\n",
    "    arcpy.env.workspace = workspace\n",
    "    \n",
    "    # Make sure you can overwrite layers\n",
    "    # arcpy.env.overwriteOutput = True\n",
    "    \n",
    "    # delete all intermediate layers\n",
    "    intermediate_layers = [fc1 + \"_Buffer\", fc2 + \"_Buffer\", fc3 + \"_Buffer\",\n",
    "                          \"FirstCriteria_Union\", \"FirstCriteria_Dissolve\",\n",
    "                          \"First_Step\", raster_lyr + \"_Statistics\", out_fc]\n",
    "    for intermediate_layer in intermediate_layers:\n",
    "        if arcpy.Exists(intermediate_layer):\n",
    "            arcpy.Delete_management(intermediate_layer)\n",
    "    \n",
    "    # ANALYSES FOR THE FIRST CRITERIA\n",
    "    \n",
    "    # Buffer for Environmentally_sensitive_areas, \n",
    "    # Schools and Existing Fire Stations    \n",
    "    arcpy.Buffer_analysis(fc1, fc1 + \"_Buffer\", b_dist1)\n",
    "    arcpy.Buffer_analysis(fc2, fc2 + \"_Buffer\", b_dist2)\n",
    "    arcpy.Buffer_analysis(fc3, fc3 + \"_Buffer\", b_dist3)\n",
    "    \n",
    "    # Let's do the union analysis\n",
    "    arcpy.Union_analysis([fc1 + \"_Buffer\", fc2 + \"_Buffer\", fc3 + \"_Buffer\"], \n",
    "                         \"FirstCriteria_Union\")\n",
    "    \n",
    "    # Dissolve all union features\n",
    "    arcpy.Dissolve_management(\"FirstCriteria_Union\", \"FirstCriteria_Dissolve\")\n",
    "    \n",
    "    # Conduct erase analysis\n",
    "    arcpy.Erase_analysis(input_fc, \"FirstCriteria_Dissolve\", \"First_Step\")\n",
    "    \n",
    "    # SECOND CRITERIA\n",
    "    \n",
    "    # First add area in sq meters\n",
    "    arcpy.AddField_management(\"First_Step\",\"area_sq_meters\",\"Double\")\n",
    "    expression1 = \"{0}\".format(\"!SHAPE.area@SQUAREMETERS!\")       \n",
    "    arcpy.CalculateField_management(\"First_Step\", \"area_sq_meters\",\n",
    "                                    expression1, \"PYTHON\", )\n",
    "    \n",
    "    # Zonal Statistics as Table\n",
    "\n",
    "    # arcpy.gp.ZonalStatisticsAsTable for 2.5\n",
    "    # arcpy.sa.ZonalStatisticsAsTable for 2.7\n",
    "    arcpy.sa.ZonalStatisticsAsTable(\"First_Step\", \"OBJECTID\", raster_lyr, raster_lyr + \"_Statistics\",\n",
    "                                   \"NODATA\", \"MEAN\")\n",
    "    # Join the zonal statistics to the First_Step feature class\n",
    "    arcpy.JoinField_management(\"First_Step\", \"OBJECTID\", raster_lyr + \"_Statistics\", \"OBJECTID_1\")\n",
    "    \n",
    "    # Let's create a feature layer for selection\n",
    "    arcpy.MakeFeatureLayer_management(\"First_Step\", \"Final_Selection_Lyr\")\n",
    "    \n",
    "    # Define and conduct a query\n",
    "    query = \"area_sq_meters >\" + str(parcel_size) + \" and OWNER = 'CITY' and \" + raster_criterion\n",
    "    \n",
    "    arcpy.SelectLayerByAttribute_management(\"Final_Selection_Lyr\", \"NEW_SELECTION\", query)\n",
    "    \n",
    "    arcpy.CopyFeatures_management(\"Final_Selection_Lyr\", out_fc)"
   ]
  },
  {
   "cell_type": "code",
   "execution_count": 17,
   "metadata": {},
   "outputs": [],
   "source": [
    "batchFirestationParcelSearchArc2_5(\"C:/EsriTraining/firestation.gdb\", \"Sites1\",\n",
    "                             \"Environmentally_sensitive_area\", \"1.4 Kilometers\",\n",
    "                             \"School\", \"2.5 Kilometers\",\n",
    "                             \"Existing_fire_station\", \"2 Kilometers\",\n",
    "                            20000, \"Slope\", \"MEAN < 15\", \"Final_Output_Paul_Lisa\")"
   ]
  }
 ],
 "metadata": {
  "kernelspec": {
   "display_name": "Python 3",
   "language": "python",
   "name": "python3"
  },
  "language_info": {
   "codemirror_mode": {
    "name": "ipython",
    "version": 3
   },
   "file_extension": ".py",
   "mimetype": "text/x-python",
   "name": "python",
   "nbconvert_exporter": "python",
   "pygments_lexer": "ipython3",
   "version": "3.7.9"
  }
 },
 "nbformat": 4,
 "nbformat_minor": 4
}
