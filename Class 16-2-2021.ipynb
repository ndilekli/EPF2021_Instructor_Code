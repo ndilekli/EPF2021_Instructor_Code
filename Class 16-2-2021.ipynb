{
 "cells": [
  {
   "cell_type": "code",
   "execution_count": 1,
   "metadata": {},
   "outputs": [
    {
     "name": "stdout",
     "output_type": "stream",
     "text": [
      "x is larger than 0\n"
     ]
    }
   ],
   "source": [
    "x = 1\n",
    "# Let's make an evaluation\n",
    "if (x > 0):\n",
    "    print(\"x is larger than 0\")"
   ]
  },
  {
   "cell_type": "code",
   "execution_count": 2,
   "metadata": {},
   "outputs": [],
   "source": [
    "# Here is a comment to assign 3 to the variable a\n",
    "# and then assign 2 to the variable b\n",
    "a = 3\n",
    "b = 2"
   ]
  },
  {
   "cell_type": "code",
   "execution_count": 3,
   "metadata": {},
   "outputs": [
    {
     "data": {
      "text/plain": [
       "'\\ndescription very long\\nvery very long\\nin multiple lines\\nblock out with three double quotation marks\\n'"
      ]
     },
     "execution_count": 3,
     "metadata": {},
     "output_type": "execute_result"
    }
   ],
   "source": [
    "# Long comments?\n",
    "\n",
    "\"\"\"\n",
    "description very long\n",
    "very very long\n",
    "in multiple lines\n",
    "block out with three double quotation marks\n",
    "\"\"\""
   ]
  },
  {
   "cell_type": "markdown",
   "metadata": {},
   "source": [
    "# Markdown explanation\n",
    "here is the information"
   ]
  },
  {
   "cell_type": "code",
   "execution_count": 4,
   "metadata": {},
   "outputs": [
    {
     "name": "stdout",
     "output_type": "stream",
     "text": [
      "x is larger than 0\n"
     ]
    }
   ],
   "source": [
    "x = 1\n",
    "# Let's make an evaluation\n",
    "if (x > 0):\n",
    "    print(\"x is larger than 0\")"
   ]
  },
  {
   "cell_type": "code",
   "execution_count": 5,
   "metadata": {},
   "outputs": [],
   "source": [
    "c = 3"
   ]
  },
  {
   "cell_type": "code",
   "execution_count": 6,
   "metadata": {},
   "outputs": [
    {
     "name": "stdout",
     "output_type": "stream",
     "text": [
      "3\n"
     ]
    }
   ],
   "source": [
    "print(c)"
   ]
  },
  {
   "cell_type": "code",
   "execution_count": 7,
   "metadata": {},
   "outputs": [],
   "source": [
    "d = 10"
   ]
  },
  {
   "cell_type": "code",
   "execution_count": 8,
   "metadata": {},
   "outputs": [
    {
     "name": "stdout",
     "output_type": "stream",
     "text": [
      "10\n"
     ]
    }
   ],
   "source": [
    "print(d)"
   ]
  },
  {
   "cell_type": "code",
   "execution_count": 9,
   "metadata": {},
   "outputs": [],
   "source": [
    "my_variable = 5"
   ]
  },
  {
   "cell_type": "code",
   "execution_count": 10,
   "metadata": {},
   "outputs": [
    {
     "name": "stdout",
     "output_type": "stream",
     "text": [
      "0.5\n"
     ]
    }
   ],
   "source": [
    "new_variable = 0.5\n",
    "print(new_variable)"
   ]
  },
  {
   "cell_type": "code",
   "execution_count": 11,
   "metadata": {},
   "outputs": [
    {
     "name": "stdout",
     "output_type": "stream",
     "text": [
      "1\n",
      "12\n"
     ]
    }
   ],
   "source": [
    "print(x)\n",
    "x = 12\n",
    "print(x)"
   ]
  },
  {
   "cell_type": "code",
   "execution_count": 12,
   "metadata": {},
   "outputs": [],
   "source": [
    "name = \"Paul\""
   ]
  },
  {
   "cell_type": "code",
   "execution_count": 13,
   "metadata": {},
   "outputs": [],
   "source": [
    "new_name = 'Germath'"
   ]
  },
  {
   "cell_type": "code",
   "execution_count": 14,
   "metadata": {},
   "outputs": [],
   "source": [
    "_name = \"Mr X\""
   ]
  },
  {
   "cell_type": "code",
   "execution_count": 15,
   "metadata": {},
   "outputs": [],
   "source": [
    "Name = \"Lisa\""
   ]
  },
  {
   "cell_type": "code",
   "execution_count": 16,
   "metadata": {},
   "outputs": [
    {
     "name": "stdout",
     "output_type": "stream",
     "text": [
      "Paul\n",
      "Lisa\n"
     ]
    }
   ],
   "source": [
    "print(name)\n",
    "print(Name)"
   ]
  },
  {
   "cell_type": "code",
   "execution_count": 17,
   "metadata": {},
   "outputs": [],
   "source": [
    "name2 = \"Jack\"\n",
    "# Can't start the variable with a number\n",
    "# 2name = \"Joe\""
   ]
  },
  {
   "cell_type": "code",
   "execution_count": 18,
   "metadata": {},
   "outputs": [],
   "source": [
    "# x, y, z, x2, x3, x4\n",
    "# student_name\n",
    "# student_age\n",
    "number_of_students_in_the_class = 9"
   ]
  },
  {
   "cell_type": "code",
   "execution_count": 19,
   "metadata": {},
   "outputs": [],
   "source": [
    "# variable naming\n",
    "# try to make them readible and self explanatory\n",
    "favoriteColorOfPeople = \"red\" #camel case\n",
    "favorite_color_of_people = \"blue\" #snake case"
   ]
  },
  {
   "cell_type": "code",
   "execution_count": 20,
   "metadata": {},
   "outputs": [],
   "source": [
    "# reserved words\n",
    "# import = 10\n",
    "#for, if, range\n"
   ]
  },
  {
   "cell_type": "code",
   "execution_count": 21,
   "metadata": {},
   "outputs": [
    {
     "data": {
      "text/plain": [
       "['False',\n",
       " 'None',\n",
       " 'True',\n",
       " 'and',\n",
       " 'as',\n",
       " 'assert',\n",
       " 'async',\n",
       " 'await',\n",
       " 'break',\n",
       " 'class',\n",
       " 'continue',\n",
       " 'def',\n",
       " 'del',\n",
       " 'elif',\n",
       " 'else',\n",
       " 'except',\n",
       " 'finally',\n",
       " 'for',\n",
       " 'from',\n",
       " 'global',\n",
       " 'if',\n",
       " 'import',\n",
       " 'in',\n",
       " 'is',\n",
       " 'lambda',\n",
       " 'nonlocal',\n",
       " 'not',\n",
       " 'or',\n",
       " 'pass',\n",
       " 'raise',\n",
       " 'return',\n",
       " 'try',\n",
       " 'while',\n",
       " 'with',\n",
       " 'yield']"
      ]
     },
     "execution_count": 21,
     "metadata": {},
     "output_type": "execute_result"
    }
   ],
   "source": [
    "import keyword\n",
    "keyword.kwlist"
   ]
  },
  {
   "cell_type": "code",
   "execution_count": 22,
   "metadata": {},
   "outputs": [
    {
     "name": "stdout",
     "output_type": "stream",
     "text": [
      "<class 'str'>\n",
      "<class 'int'>\n",
      "<class 'float'>\n",
      "<class 'bool'>\n",
      "15\n"
     ]
    }
   ],
   "source": [
    "# Some variables with different types\n",
    "item_name = \"Computer\" # A string\n",
    "item_quantity = 10 # An integer\n",
    "item_value = 899.99 # A decimal, float, double\n",
    "item_in_stock = True # A boolean\n",
    "\n",
    "print(type(item_name))\n",
    "print(type(item_quantity))\n",
    "print(type(item_value))\n",
    "print(type(item_in_stock))\n",
    "\n",
    "item_quantity = 15\n",
    "\n",
    "# will this run?\n",
    "# Statement below would cause an error\n",
    "# because assignments are done from right to left\n",
    "# 20 = item_quantity\n",
    "# \"Paul\" = name\n",
    "\n",
    "new_quantity = item_quantity\n",
    "print(new_quantity)"
   ]
  },
  {
   "cell_type": "code",
   "execution_count": 23,
   "metadata": {},
   "outputs": [
    {
     "name": "stdout",
     "output_type": "stream",
     "text": [
      "<class 'float'>\n"
     ]
    }
   ],
   "source": [
    "item_quantity = 10.5\n",
    "print(type(item_quantity))"
   ]
  },
  {
   "cell_type": "code",
   "execution_count": 24,
   "metadata": {},
   "outputs": [
    {
     "name": "stdout",
     "output_type": "stream",
     "text": [
      "Enter your name: Jack\n",
      "Jack\n",
      "The user's name is Jack\n"
     ]
    }
   ],
   "source": [
    "name = input(\"Enter your name: \")\n",
    "print(name)\n",
    "print(\"The user's name is \" + name)"
   ]
  },
  {
   "cell_type": "code",
   "execution_count": 25,
   "metadata": {},
   "outputs": [
    {
     "name": "stdout",
     "output_type": "stream",
     "text": [
      "Enter your age: 20\n",
      "<class 'int'>\n",
      "The user's age is 20\n",
      "The user's age is 20\n"
     ]
    }
   ],
   "source": [
    "# Input function takes everything as string\n",
    "# Need to convert string to integer if the intention\n",
    "# is to use it as an integer later on\n",
    "age = int(input(\"Enter your age: \"))\n",
    "print(type(age))\n",
    "print(\"The user's age is\", age)\n",
    "# Cannot concatanate integer with strings\n",
    "# Therefore need to convert numerical value\n",
    "# into a string value\n",
    "print(\"The user's age is \" + str(age))\n"
   ]
  },
  {
   "cell_type": "code",
   "execution_count": 26,
   "metadata": {},
   "outputs": [
    {
     "name": "stdout",
     "output_type": "stream",
     "text": [
      "First string second string\n"
     ]
    }
   ],
   "source": [
    "print(\"First string\" + \" second string\")\n",
    "# the output becomes \"First string second string\""
   ]
  },
  {
   "cell_type": "code",
   "execution_count": 27,
   "metadata": {},
   "outputs": [
    {
     "name": "stdout",
     "output_type": "stream",
     "text": [
      "User's name Jack , user's age 20\n"
     ]
    }
   ],
   "source": [
    "print(\"User's name\", name, \", user's age\", age)"
   ]
  },
  {
   "cell_type": "code",
   "execution_count": 28,
   "metadata": {},
   "outputs": [
    {
     "name": "stdout",
     "output_type": "stream",
     "text": [
      "User's name Jack, user's age 20 years old.\n"
     ]
    }
   ],
   "source": [
    "print(\"User's name \" + name + \", user's age \" + str(age) + \" years old.\")"
   ]
  },
  {
   "cell_type": "code",
   "execution_count": 32,
   "metadata": {},
   "outputs": [
    {
     "name": "stdout",
     "output_type": "stream",
     "text": [
      "Enter the first number 4\n",
      "Enter the second number 5\n",
      "First entered number is 4 second number is 5\n"
     ]
    }
   ],
   "source": [
    "# Use the input function to assign values to two \n",
    "# variables to (a and b) and to print them\n",
    "# in the following way (assume user enters 4 and 5)\n",
    "# first entered number is 4, second entered number is 5\n",
    "\n",
    "a = int(input(\"Enter the first number \"))\n",
    "b = int(input(\"Enter the second number \"))\n",
    "\n",
    "print(\"First entered number is\", a, \"second number is\", b)"
   ]
  },
  {
   "cell_type": "code",
   "execution_count": 33,
   "metadata": {},
   "outputs": [
    {
     "name": "stdout",
     "output_type": "stream",
     "text": [
      "First entered number is 5 second number is 4\n"
     ]
    }
   ],
   "source": [
    "# Exercise: swap the values a and b\n",
    "# so that a becomes 5, and b becomes 4 (from the exercise above)\n",
    "# hint: you can use a temporary variable\n",
    "\n",
    "temp = a\n",
    "a = b\n",
    "b = temp\n",
    "\n",
    "print(\"First entered number is\", a, \"second number is\", b)"
   ]
  },
  {
   "cell_type": "code",
   "execution_count": 34,
   "metadata": {},
   "outputs": [
    {
     "name": "stdout",
     "output_type": "stream",
     "text": [
      "First entered number is 4 second number is 5\n"
     ]
    }
   ],
   "source": [
    "a, b = b, a\n",
    "print(\"First entered number is\", a, \"second number is\", b)"
   ]
  },
  {
   "cell_type": "code",
   "execution_count": 38,
   "metadata": {},
   "outputs": [
    {
     "name": "stdout",
     "output_type": "stream",
     "text": [
      "P\n",
      "a\n",
      "u\n",
      "l\n"
     ]
    }
   ],
   "source": [
    "example_name = \"Paul\"\n",
    "print(example_name[0])\n",
    "print(example_name[1])\n",
    "print(example_name[2])\n",
    "print(example_name[3])\n",
    "# index out of range for [4]\n",
    "# print(example_name[4])"
   ]
  },
  {
   "cell_type": "code",
   "execution_count": 43,
   "metadata": {},
   "outputs": [
    {
     "name": "stdout",
     "output_type": "stream",
     "text": [
      "l\n",
      "u\n",
      "a\n",
      "P\n"
     ]
    }
   ],
   "source": [
    "print(example_name[-1])\n",
    "print(example_name[-2])\n",
    "print(example_name[-3])\n",
    "print(example_name[-4])\n",
    "# string out of range\n",
    "# print(example_name[-5])"
   ]
  },
  {
   "cell_type": "code",
   "execution_count": 47,
   "metadata": {},
   "outputs": [
    {
     "ename": "TypeError",
     "evalue": "'str' object does not support item assignment",
     "output_type": "error",
     "traceback": [
      "\u001b[1;31m---------------------------------------------------------------------------\u001b[0m",
      "\u001b[1;31mTypeError\u001b[0m                                 Traceback (most recent call last)",
      "\u001b[1;32m<ipython-input-47-3145668de644>\u001b[0m in \u001b[0;36m<module>\u001b[1;34m\u001b[0m\n\u001b[0;32m      1\u001b[0m \u001b[1;31m# Cannot change individual characters in a string variable\u001b[0m\u001b[1;33m\u001b[0m\u001b[1;33m\u001b[0m\u001b[1;33m\u001b[0m\u001b[0m\n\u001b[1;32m----> 2\u001b[1;33m \u001b[0mexample_name\u001b[0m\u001b[1;33m[\u001b[0m\u001b[1;36m0\u001b[0m\u001b[1;33m]\u001b[0m \u001b[1;33m=\u001b[0m \u001b[1;34m\"M\"\u001b[0m\u001b[1;33m\u001b[0m\u001b[1;33m\u001b[0m\u001b[0m\n\u001b[0m",
      "\u001b[1;31mTypeError\u001b[0m: 'str' object does not support item assignment"
     ]
    }
   ],
   "source": [
    "# Cannot change individual characters in a string variable\n",
    "example_name[0] = \"M\""
   ]
  },
  {
   "cell_type": "code",
   "execution_count": 46,
   "metadata": {},
   "outputs": [
    {
     "name": "stdout",
     "output_type": "stream",
     "text": [
      "Maul\n"
     ]
    }
   ],
   "source": [
    "# You can change the entirety of a string\n",
    "example_name = \"Maul\"\n",
    "print(example_name)"
   ]
  },
  {
   "cell_type": "code",
   "execution_count": 48,
   "metadata": {},
   "outputs": [
    {
     "name": "stdout",
     "output_type": "stream",
     "text": [
      "Claviere\n"
     ]
    }
   ],
   "source": [
    "name = \"Paul Claviere-Schiele\"\n",
    "# how do I get Claviere from variable name\n",
    "print(name[5:13])"
   ]
  },
  {
   "cell_type": "code",
   "execution_count": 57,
   "metadata": {},
   "outputs": [
    {
     "name": "stdout",
     "output_type": "stream",
     "text": [
      "Schiele\n",
      "Schiele\n"
     ]
    }
   ],
   "source": [
    "# How do I get Schiele from variable name\n",
    "print(name[14:21])\n",
    "print(name[14:])\n",
    "# print(name[14:22])\n",
    "# print(name[22])"
   ]
  },
  {
   "cell_type": "code",
   "execution_count": 59,
   "metadata": {},
   "outputs": [
    {
     "name": "stdout",
     "output_type": "stream",
     "text": [
      " Claviere-Sch\n",
      "Paul Claviere-Sch\n"
     ]
    }
   ],
   "source": [
    "print(name[4:-4])\n",
    "print(name[:-4])"
   ]
  },
  {
   "cell_type": "code",
   "execution_count": 60,
   "metadata": {},
   "outputs": [
    {
     "name": "stdout",
     "output_type": "stream",
     "text": [
      " \n"
     ]
    }
   ],
   "source": [
    "print(name[4])"
   ]
  },
  {
   "cell_type": "code",
   "execution_count": 62,
   "metadata": {},
   "outputs": [
    {
     "name": "stdout",
     "output_type": "stream",
     "text": [
      "l C\n",
      "l Clavier\n"
     ]
    }
   ],
   "source": [
    "index1 = 3\n",
    "index2 = 6\n",
    "\n",
    "print(name[index1:index2])\n",
    "print(name[index2 - index1:index2 * 2])"
   ]
  },
  {
   "cell_type": "code",
   "execution_count": 63,
   "metadata": {},
   "outputs": [
    {
     "ename": "TypeError",
     "evalue": "string indices must be integers",
     "output_type": "error",
     "traceback": [
      "\u001b[1;31m---------------------------------------------------------------------------\u001b[0m",
      "\u001b[1;31mTypeError\u001b[0m                                 Traceback (most recent call last)",
      "\u001b[1;32m<ipython-input-63-a5a6d4e7427b>\u001b[0m in \u001b[0;36m<module>\u001b[1;34m\u001b[0m\n\u001b[1;32m----> 1\u001b[1;33m \u001b[0mprint\u001b[0m\u001b[1;33m(\u001b[0m\u001b[0mname\u001b[0m\u001b[1;33m[\u001b[0m\u001b[0mindex2\u001b[0m\u001b[1;33m/\u001b[0m\u001b[0mindex1\u001b[0m\u001b[1;33m]\u001b[0m\u001b[1;33m)\u001b[0m\u001b[1;33m\u001b[0m\u001b[1;33m\u001b[0m\u001b[0m\n\u001b[0m",
      "\u001b[1;31mTypeError\u001b[0m: string indices must be integers"
     ]
    }
   ],
   "source": [
    "# We cannot use floats/decimals as index numbers\n",
    "print(name[index2/index1])"
   ]
  },
  {
   "cell_type": "code",
   "execution_count": 69,
   "metadata": {},
   "outputs": [
    {
     "name": "stdout",
     "output_type": "stream",
     "text": [
      "2.0\n",
      "<class 'float'>\n",
      "2\n",
      "<class 'int'>\n",
      "u\n"
     ]
    }
   ],
   "source": [
    "index3 = index2 / index1\n",
    "print(index3)\n",
    "print(type(index3))\n",
    "index4 = int(index2 / index1)\n",
    "print(index4)\n",
    "print(type(index4))"
   ]
  },
  {
   "cell_type": "code",
   "execution_count": 70,
   "metadata": {},
   "outputs": [
    {
     "name": "stdout",
     "output_type": "stream",
     "text": [
      "u\n"
     ]
    }
   ],
   "source": [
    "print(name[int(index2/index1)])"
   ]
  },
  {
   "cell_type": "code",
   "execution_count": 72,
   "metadata": {},
   "outputs": [
    {
     "name": "stdout",
     "output_type": "stream",
     "text": [
      "a\n"
     ]
    }
   ],
   "source": [
    "# int function always rounds down to the nearest integer\n",
    "print(name[int(1.999999999)])"
   ]
  },
  {
   "cell_type": "code",
   "execution_count": 76,
   "metadata": {},
   "outputs": [
    {
     "name": "stdout",
     "output_type": "stream",
     "text": [
      "21\n",
      "4\n"
     ]
    }
   ],
   "source": [
    "# len() function tells us the lenth of a string (or a list)\n",
    "print(len(name))\n",
    "name2 = \"Lisa\"\n",
    "print(len(name2))"
   ]
  },
  {
   "cell_type": "code",
   "execution_count": 77,
   "metadata": {},
   "outputs": [
    {
     "name": "stdout",
     "output_type": "stream",
     "text": [
      "Paul\n",
      "Paul\n"
     ]
    }
   ],
   "source": [
    "print(name[:len(name2)])\n",
    "# the statement above is equal to the statement below\n",
    "print(name[:4])"
   ]
  },
  {
   "cell_type": "code",
   "execution_count": 79,
   "metadata": {},
   "outputs": [
    {
     "name": "stdout",
     "output_type": "stream",
     "text": [
      "My name is Naci\n",
      "I live in Izmir\n"
     ]
    }
   ],
   "source": [
    "# New line character\n",
    "print(\"My name is Naci\\nI live in Izmir\")"
   ]
  },
  {
   "cell_type": "code",
   "execution_count": 80,
   "metadata": {},
   "outputs": [
    {
     "name": "stdout",
     "output_type": "stream",
     "text": [
      "a\tb\tc\td\n"
     ]
    }
   ],
   "source": [
    "# Use of tabs\n",
    "print(\"a\\tb\\tc\\td\")"
   ]
  },
  {
   "cell_type": "code",
   "execution_count": 85,
   "metadata": {},
   "outputs": [
    {
     "name": "stdout",
     "output_type": "stream",
     "text": [
      "Name:\tJack\n",
      "Age:\t22\n",
      "City:\t\"Paris\"\n"
     ]
    }
   ],
   "source": [
    "name = \"Jack\"\n",
    "age = 22\n",
    "city = \"Paris\"\n",
    "\n",
    "#print(\"Name:\\t\" + name + \"\\nAge:\\t\" + str(age) + \"\\nCity:\\t\" + city)\n",
    "\n",
    "# say I want to see Paris as \"Paris\"\n",
    "print(\"Name:\\t\" + name + \"\\nAge:\\t\" + str(age) + \"\\nCity:\\t\\\"\" + city + \"\\\"\")"
   ]
  }
 ],
 "metadata": {
  "kernelspec": {
   "display_name": "Python 3",
   "language": "python",
   "name": "python3"
  },
  "language_info": {
   "codemirror_mode": {
    "name": "ipython",
    "version": 3
   },
   "file_extension": ".py",
   "mimetype": "text/x-python",
   "name": "python",
   "nbconvert_exporter": "python",
   "pygments_lexer": "ipython3",
   "version": "3.7.3"
  }
 },
 "nbformat": 4,
 "nbformat_minor": 2
}
