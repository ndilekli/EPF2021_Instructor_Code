{
 "cells": [
  {
   "cell_type": "code",
   "execution_count": 1,
   "metadata": {},
   "outputs": [
    {
     "name": "stdout",
     "output_type": "stream",
     "text": [
      "True\n"
     ]
    }
   ],
   "source": [
    "import arcpy\n",
    "\n",
    "arcpy.env.workspace = \"C:/EsriTraining/firestation.gdb\"\n",
    "\n",
    "print(arcpy.Exists(arcpy.env.workspace))"
   ]
  },
  {
   "cell_type": "code",
   "execution_count": 6,
   "metadata": {},
   "outputs": [
    {
     "name": "stdout",
     "output_type": "stream",
     "text": [
      "Environmentally_sensitive_area\n",
      "School\n",
      "Existing_fire_station\n",
      "Sites1\n"
     ]
    }
   ],
   "source": [
    "# First check if the workspace/GDB exists\n",
    "\n",
    "if arcpy.Exists(arcpy.env.workspace):\n",
    "    # If it exists then list all the feature classes\n",
    "    feature_classes = arcpy.ListFeatureClasses()\n",
    "    \n",
    "    for feature_class in feature_classes:\n",
    "        print(feature_class)  \n",
    "    "
   ]
  },
  {
   "cell_type": "code",
   "execution_count": 26,
   "metadata": {},
   "outputs": [
    {
     "name": "stdout",
     "output_type": "stream",
     "text": [
      "Found Environmentally_sensitive_area\n",
      "Found School\n",
      "Found Existing_fire_station\n",
      "Found Sites1\n",
      "\tDeleting First_Step\n"
     ]
    }
   ],
   "source": [
    "# Clean-up code / function\n",
    "\n",
    "fcs_to_keep = [\"Environmentally_sensitive_area\", \n",
    "               \"School\", \"Existing_fire_station\", \"Sites1\"]\n",
    "\n",
    "arcpy.env.workspace = \"C:/EsriTraining/firestation.gdb\"\n",
    "\n",
    "if arcpy.Exists(arcpy.env.workspace):\n",
    "    # If it exists then list all the feature classes\n",
    "    feature_classes = arcpy.ListFeatureClasses()\n",
    "    \n",
    "    for feature_class in feature_classes:\n",
    "        if feature_class in fcs_to_keep:\n",
    "            print(\"Found\", feature_class)\n",
    "        else:\n",
    "            arcpy.management.Delete(feature_class)\n",
    "            print(\"\\tDeleting\", feature_class)"
   ]
  },
  {
   "cell_type": "code",
   "execution_count": 7,
   "metadata": {
    "scrolled": true
   },
   "outputs": [
    {
     "name": "stdout",
     "output_type": "stream",
     "text": [
      "Found and keeping Environmentally_sensitive_area\n",
      "Found and keeping School\n",
      "Found and keeping Existing_fire_station\n",
      "Found and keeping Sites1\n",
      "\tDeleting Environmentally_sensitive_area_Buffer\n",
      "\tDeleting School_Buffer\n",
      "\tDeleting Existing_fire_station_Buffer\n",
      "\tDeleting FirstCriteria_Union\n",
      "\tDeleting FirstCriteria_Dissolve\n",
      "\tDeleting First_Step\n",
      "\tDeleting Final_Output_Lisa\n"
     ]
    }
   ],
   "source": [
    "# Convert the code into a function\n",
    "\n",
    "# call the function like: clean_up_gdb([\"Environmentally_sensitive_area\", \"School\", \"Existing_fire_station\", \"Sites1\"]) \n",
    "\n",
    "def clean_up_gdb(workspace, fcs_to_keep):\n",
    "    if arcpy.Exists(arcpy.env.workspace):\n",
    "        # If it exists then list all the feature classes\n",
    "        feature_classes = arcpy.ListFeatureClasses()\n",
    "\n",
    "        for feature_class in feature_classes:\n",
    "            if feature_class in fcs_to_keep:\n",
    "                print(\"Found and keeping\", feature_class)\n",
    "            else:\n",
    "                # Should work for ArcGIS 2.5 as well\n",
    "                arcpy.management.Delete(feature_class)\n",
    "                \n",
    "                print(\"\\tDeleting\", feature_class)\n",
    "                \n",
    "clean_up_gdb(\"C:/EsriTraining/firestation.gdb\", \n",
    "             [\"Environmentally_sensitive_area\", \"School\", \"Existing_fire_station\", \"Sites1\"]) "
   ]
  },
  {
   "cell_type": "code",
   "execution_count": 13,
   "metadata": {},
   "outputs": [],
   "source": [
    "# How to create a new and empty Geodatabase?\n",
    "\n",
    "root = \"C:/EsriTraining\"\n",
    "out_gdb = \"output.gdb\"\n",
    "\n",
    "# For ArcGIS Pro 2.7\n",
    "# How to enable overwriting files\n",
    "arcpy.env.overwriteOutput = True\n",
    "\n",
    "if arcpy.Exists(root + \"/\" + out_gdb):\n",
    "    arcpy.management.Delete(root + \"/\" + out_gdb)\n",
    "    arcpy.CreateFileGDB_management(root, out_gdb)\n",
    "else:\n",
    "    arcpy.CreateFileGDB_management(root, out_gdb)"
   ]
  },
  {
   "cell_type": "code",
   "execution_count": 22,
   "metadata": {},
   "outputs": [
    {
     "name": "stdout",
     "output_type": "stream",
     "text": [
      "Creating a 2 Kilometers buffer on School\n",
      "Creating a 2 Kilometers buffer on Existing_fire_station\n"
     ]
    }
   ],
   "source": [
    "# Print feature class names in firestation.gdb if they have\n",
    "# a point geometry, conduct a buffer of 2 km on those fcs (w point geometry)\n",
    "# store the buffer layers in the output.gdb\n",
    "\n",
    "# arcpy.Buffer_analysis(\"School\", \"c:/EsriTraining/output.gdb/School_Buffer\", distance)\n",
    "\n",
    "arcpy.env.workspace = \"C:/EsriTraining/firestation.gdb\"\n",
    "\n",
    "def bufferPointsToOutGDB(workspace, out_gdb, distance):\n",
    "    arcpy.env.workspace = workspace\n",
    "    feature_classes = arcpy.ListFeatureClasses()\n",
    "    for feature_class in feature_classes:\n",
    "        desc = arcpy.Describe(feature_class)\n",
    "        if desc.shapeType == \"Point\":\n",
    "            arcpy.Buffer_analysis(feature_class, out_gdb + \"/\" + feature_class + \"_Buffer\", distance)\n",
    "            print(\"Creating a\", distance, \"buffer on\", feature_class)\n",
    "    \n",
    "# how to call the function?\n",
    "bufferPointsToOutGDB(\"C:/EsriTraining/firestation.gdb\", \"C:/EsriTraining/output.gdb\", \"2 Kilometers\")"
   ]
  },
  {
   "cell_type": "code",
   "execution_count": 43,
   "metadata": {},
   "outputs": [
    {
     "name": "stdout",
     "output_type": "stream",
     "text": [
      "School\n",
      "Existing_fire_station\n",
      "School_Buffer\n",
      "Existing_fire_station_Buffer\n",
      "Environmentally_sensitive_area_Buffer_500_Meters\n",
      "Sites1_Buffer_500_Meters\n",
      "First_Step_Buffer_500_Meters\n",
      "Environmentally_sensitive_area_Buffer_1000_Meters\n",
      "Sites1_Buffer_1000_Meters\n",
      "First_Step_Buffer_1000_Meters\n",
      "School_Buffer_1500_Meters\n",
      "Existing_fire_station_Buffer_1500_Meters\n",
      "Existing_fire_station_BufferMinRecord\n"
     ]
    }
   ],
   "source": [
    "arcpy.env.workspace = \"C:/EsriTraining/output.gdb\"\n",
    "feature_classes = arcpy.ListFeatureClasses()\n",
    "for feature_class in feature_classes:\n",
    "    print(feature_class)"
   ]
  },
  {
   "cell_type": "code",
   "execution_count": 27,
   "metadata": {},
   "outputs": [
    {
     "name": "stdout",
     "output_type": "stream",
     "text": [
      "Creating a 1500 Meters buffer on School\n",
      "Creating a 1500 Meters buffer on Existing_fire_station\n"
     ]
    }
   ],
   "source": [
    "# Write a function that will take in (1) the location of the\n",
    "# source files (e.g. C:/EsriTraining/firestation.gdb)\n",
    "# (2) the location of the output GDB \n",
    "# (3) type of the geometry for the buffer analysis (e.g. \"Polygon\" or \"Point\")\n",
    "# (4) the distance in number only\n",
    "# (5) the distance unit\n",
    "# Add the distance information to the output files\n",
    "# e.g. if you specify 500 Meters, -> Schools_Buffer_500_Meters\n",
    "\n",
    "# batchBuffer(\"C:/EsriTraining/firestation.gdb\", \"C:/EsriTraining/output.gdb\", \"Polygon\", 500, \"Meters\")\n",
    "\n",
    "def batchBuffer(workspace, out_gdb, geom, distance, unit):\n",
    "    arcpy.env.workspace = workspace\n",
    "    feature_classes = arcpy.ListFeatureClasses()\n",
    "    for feature_class in feature_classes:\n",
    "        desc = arcpy.Describe(feature_class)\n",
    "        if desc.shapeType == geom:\n",
    "            # 500, \"Meters\" -> \"500 Meters\"\n",
    "            arcpy.Buffer_analysis(feature_class, out_gdb + \"/\" + feature_class + \n",
    "                                  \"_Buffer_\" + str(distance) + \"_\" + unit, \n",
    "                                 str(distance) + \" \" + unit)\n",
    "            print(\"Creating a\", distance, unit , \"buffer on\", feature_class)\n",
    "\n",
    "batchBuffer(\"C:/EsriTraining/firestation.gdb\", \"C:/EsriTraining/output.gdb\", \"Point\", 1500, \"Meters\")"
   ]
  },
  {
   "cell_type": "code",
   "execution_count": 42,
   "metadata": {},
   "outputs": [
    {
     "name": "stdout",
     "output_type": "stream",
     "text": [
      "[['Environmentally_sensitive_area', '5'], ['School', '14'], ['Existing_fire_station', '3'], ['Sites1', '15344']]\n",
      "Comparing 5 5\n",
      "Comparing 14 5\n",
      "Comparing 3 5\n",
      "3 is smaller than 5\n",
      "Comparing 15344 3\n",
      "['Existing_fire_station', '3']\n"
     ]
    }
   ],
   "source": [
    "# Do the same as above without asking for the geometry type\n",
    "# Instead, find the feature class with the least number of records / features\n",
    "# and conduct a 1 km buffer analysis on it\n",
    "# arcpy.GetCount_management(feature_class)\n",
    "# arcpy.management.GetCount(feature_class)\n",
    "\n",
    "my_list = [20, 3, 7, 100]\n",
    "\n",
    "# How to get the smallest number?\n",
    "\n",
    "def getMin(a_list):\n",
    "    min_item = a_list[0]\n",
    "    for item in a_list:\n",
    "        if (item < min_item):\n",
    "            min_item = item\n",
    "    return min_item\n",
    "\n",
    "# print(getMin(my_list))\n",
    "\n",
    "def buffer_on_fc_w_least(workspace, out_gdb):\n",
    "    arcpy.env.workspace = workspace\n",
    "    feature_classes = arcpy.ListFeatureClasses()\n",
    "    fcs_counts = []\n",
    "    for feature_class in feature_classes:\n",
    "        # print(arcpy.management.GetCount(feature_class))\n",
    "        fcs_counts.append([feature_class, arcpy.management.GetCount(feature_class)[0]])\n",
    "    print(fcs_counts)\n",
    "    \n",
    "    min_record = fcs_counts[0]\n",
    "\n",
    "    for fc_count in fcs_counts:\n",
    "        print(\"Comparing\", fc_count[1], min_record[1])\n",
    "        if int(fc_count[1]) < int(min_record[1]):\n",
    "            print(fc_count[1], \"is smaller than\", min_record[1])\n",
    "            min_record = fc_count\n",
    "    print(min_record)\n",
    "    \n",
    "    arcpy.Buffer_analysis(min_record[0], out_gdb + \"/\" + min_record[0] + \"_BufferMinRecord\", \"1 Kilometers\")    \n",
    "        \n",
    "\n",
    "buffer_on_fc_w_least(\"C:/EsriTraining/firestation.gdb\", \"C:/EsriTraining/output.gdb\")"
   ]
  },
  {
   "cell_type": "code",
   "execution_count": null,
   "metadata": {},
   "outputs": [],
   "source": []
  }
 ],
 "metadata": {
  "kernelspec": {
   "display_name": "Python 3",
   "language": "python",
   "name": "python3"
  },
  "language_info": {
   "codemirror_mode": {
    "name": "ipython",
    "version": 3
   },
   "file_extension": ".py",
   "mimetype": "text/x-python",
   "name": "python",
   "nbconvert_exporter": "python",
   "pygments_lexer": "ipython3",
   "version": "3.7.9"
  }
 },
 "nbformat": 4,
 "nbformat_minor": 4
}
